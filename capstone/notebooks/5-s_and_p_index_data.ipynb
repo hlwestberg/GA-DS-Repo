{
 "cells": [
  {
   "cell_type": "markdown",
   "id": "bb5091b1",
   "metadata": {},
   "source": [
    "### Import Libraries"
   ]
  },
  {
   "cell_type": "code",
   "execution_count": 1,
   "id": "46b31504",
   "metadata": {},
   "outputs": [],
   "source": [
    "import pandas as pd\n",
    "import matplotlib.pyplot as plt\n",
    "import seaborn as sns\n",
    "import numpy as np"
   ]
  },
  {
   "cell_type": "code",
   "execution_count": 24,
   "id": "726d0de1",
   "metadata": {},
   "outputs": [],
   "source": [
    "index = pd.read_csv('../data/raw/sandp500.csv', parse_dates=True)"
   ]
  },
  {
   "cell_type": "code",
   "execution_count": 25,
   "id": "e42fa739",
   "metadata": {},
   "outputs": [
    {
     "data": {
      "text/html": [
       "<div>\n",
       "<style scoped>\n",
       "    .dataframe tbody tr th:only-of-type {\n",
       "        vertical-align: middle;\n",
       "    }\n",
       "\n",
       "    .dataframe tbody tr th {\n",
       "        vertical-align: top;\n",
       "    }\n",
       "\n",
       "    .dataframe thead th {\n",
       "        text-align: right;\n",
       "    }\n",
       "</style>\n",
       "<table border=\"1\" class=\"dataframe\">\n",
       "  <thead>\n",
       "    <tr style=\"text-align: right;\">\n",
       "      <th></th>\n",
       "      <th>SERIES_ID</th>\n",
       "      <th>DATE</th>\n",
       "      <th>VAL</th>\n",
       "    </tr>\n",
       "  </thead>\n",
       "  <tbody>\n",
       "    <tr>\n",
       "      <th>0</th>\n",
       "      <td>SP500</td>\n",
       "      <td>2019-01-01</td>\n",
       "      <td>0.00</td>\n",
       "    </tr>\n",
       "    <tr>\n",
       "      <th>1</th>\n",
       "      <td>SP500</td>\n",
       "      <td>2019-01-02</td>\n",
       "      <td>2510.03</td>\n",
       "    </tr>\n",
       "    <tr>\n",
       "      <th>2</th>\n",
       "      <td>SP500</td>\n",
       "      <td>2019-01-03</td>\n",
       "      <td>2447.89</td>\n",
       "    </tr>\n",
       "    <tr>\n",
       "      <th>3</th>\n",
       "      <td>SP500</td>\n",
       "      <td>2019-01-04</td>\n",
       "      <td>2531.94</td>\n",
       "    </tr>\n",
       "    <tr>\n",
       "      <th>4</th>\n",
       "      <td>SP500</td>\n",
       "      <td>2019-01-07</td>\n",
       "      <td>2549.69</td>\n",
       "    </tr>\n",
       "  </tbody>\n",
       "</table>\n",
       "</div>"
      ],
      "text/plain": [
       "  SERIES_ID        DATE      VAL\n",
       "0     SP500  2019-01-01     0.00\n",
       "1     SP500  2019-01-02  2510.03\n",
       "2     SP500  2019-01-03  2447.89\n",
       "3     SP500  2019-01-04  2531.94\n",
       "4     SP500  2019-01-07  2549.69"
      ]
     },
     "execution_count": 25,
     "metadata": {},
     "output_type": "execute_result"
    }
   ],
   "source": [
    "index.head()"
   ]
  },
  {
   "cell_type": "markdown",
   "id": "6a22ef03",
   "metadata": {},
   "source": [
    "- this data set is missing indexes over the weekend.\n",
    "- it also has zeros on holidays.\n",
    "- need to fill this in \n",
    "- referencing [this](https://towardsdatascience.com/filling-gaps-in-time-series-data-2db7366f1965)"
   ]
  },
  {
   "cell_type": "code",
   "execution_count": 26,
   "id": "8e4b5e53",
   "metadata": {},
   "outputs": [
    {
     "name": "stdout",
     "output_type": "stream",
     "text": [
      "<class 'pandas.core.frame.DataFrame'>\n",
      "RangeIndex: 860 entries, 0 to 859\n",
      "Data columns (total 3 columns):\n",
      " #   Column     Non-Null Count  Dtype  \n",
      "---  ------     --------------  -----  \n",
      " 0   SERIES_ID  860 non-null    object \n",
      " 1   DATE       860 non-null    object \n",
      " 2   VAL        860 non-null    float64\n",
      "dtypes: float64(1), object(2)\n",
      "memory usage: 20.3+ KB\n"
     ]
    }
   ],
   "source": [
    "index.info()"
   ]
  },
  {
   "cell_type": "code",
   "execution_count": 27,
   "id": "baa9562b",
   "metadata": {},
   "outputs": [],
   "source": [
    "# copy df\n",
    "index_df = index.copy()"
   ]
  },
  {
   "cell_type": "code",
   "execution_count": 28,
   "id": "fa79b3c4",
   "metadata": {},
   "outputs": [],
   "source": [
    "# fix date\n",
    "index_df['DATE'] = pd.to_datetime(index_df['DATE'] )"
   ]
  },
  {
   "cell_type": "code",
   "execution_count": 11,
   "id": "a580ccb9",
   "metadata": {},
   "outputs": [
    {
     "name": "stdout",
     "output_type": "stream",
     "text": [
      "<class 'pandas.core.frame.DataFrame'>\n",
      "RangeIndex: 860 entries, 0 to 859\n",
      "Data columns (total 3 columns):\n",
      " #   Column     Non-Null Count  Dtype         \n",
      "---  ------     --------------  -----         \n",
      " 0   SERIES_ID  860 non-null    object        \n",
      " 1   DATE       860 non-null    datetime64[ns]\n",
      " 2   VAL        860 non-null    float64       \n",
      "dtypes: datetime64[ns](1), float64(1), object(1)\n",
      "memory usage: 20.3+ KB\n"
     ]
    }
   ],
   "source": [
    "index_df.info()"
   ]
  },
  {
   "cell_type": "markdown",
   "id": "f08e494a",
   "metadata": {},
   "source": [
    "### Set index to date"
   ]
  },
  {
   "cell_type": "code",
   "execution_count": 29,
   "id": "0ced9b58",
   "metadata": {},
   "outputs": [],
   "source": [
    "date_df = index_df.set_index('DATE')"
   ]
  },
  {
   "cell_type": "code",
   "execution_count": 30,
   "id": "d56b2151",
   "metadata": {},
   "outputs": [],
   "source": [
    "# change 0s to Nan- this will help them be filled later on\n",
    "date_df.replace(0.00, np.nan, inplace=True)"
   ]
  },
  {
   "cell_type": "code",
   "execution_count": 31,
   "id": "86a9684f",
   "metadata": {},
   "outputs": [
    {
     "data": {
      "text/html": [
       "<div>\n",
       "<style scoped>\n",
       "    .dataframe tbody tr th:only-of-type {\n",
       "        vertical-align: middle;\n",
       "    }\n",
       "\n",
       "    .dataframe tbody tr th {\n",
       "        vertical-align: top;\n",
       "    }\n",
       "\n",
       "    .dataframe thead th {\n",
       "        text-align: right;\n",
       "    }\n",
       "</style>\n",
       "<table border=\"1\" class=\"dataframe\">\n",
       "  <thead>\n",
       "    <tr style=\"text-align: right;\">\n",
       "      <th></th>\n",
       "      <th>SERIES_ID</th>\n",
       "      <th>VAL</th>\n",
       "    </tr>\n",
       "    <tr>\n",
       "      <th>DATE</th>\n",
       "      <th></th>\n",
       "      <th></th>\n",
       "    </tr>\n",
       "  </thead>\n",
       "  <tbody>\n",
       "    <tr>\n",
       "      <th>2019-01-01</th>\n",
       "      <td>SP500</td>\n",
       "      <td>NaN</td>\n",
       "    </tr>\n",
       "    <tr>\n",
       "      <th>2019-01-02</th>\n",
       "      <td>SP500</td>\n",
       "      <td>2510.03</td>\n",
       "    </tr>\n",
       "    <tr>\n",
       "      <th>2019-01-03</th>\n",
       "      <td>SP500</td>\n",
       "      <td>2447.89</td>\n",
       "    </tr>\n",
       "    <tr>\n",
       "      <th>2019-01-04</th>\n",
       "      <td>SP500</td>\n",
       "      <td>2531.94</td>\n",
       "    </tr>\n",
       "    <tr>\n",
       "      <th>2019-01-07</th>\n",
       "      <td>SP500</td>\n",
       "      <td>2549.69</td>\n",
       "    </tr>\n",
       "    <tr>\n",
       "      <th>...</th>\n",
       "      <td>...</td>\n",
       "      <td>...</td>\n",
       "    </tr>\n",
       "    <tr>\n",
       "      <th>2022-04-12</th>\n",
       "      <td>SP500</td>\n",
       "      <td>4397.45</td>\n",
       "    </tr>\n",
       "    <tr>\n",
       "      <th>2022-04-13</th>\n",
       "      <td>SP500</td>\n",
       "      <td>4446.59</td>\n",
       "    </tr>\n",
       "    <tr>\n",
       "      <th>2022-04-14</th>\n",
       "      <td>SP500</td>\n",
       "      <td>4392.59</td>\n",
       "    </tr>\n",
       "    <tr>\n",
       "      <th>2022-04-15</th>\n",
       "      <td>SP500</td>\n",
       "      <td>NaN</td>\n",
       "    </tr>\n",
       "    <tr>\n",
       "      <th>2022-04-18</th>\n",
       "      <td>SP500</td>\n",
       "      <td>4391.69</td>\n",
       "    </tr>\n",
       "  </tbody>\n",
       "</table>\n",
       "<p>860 rows × 2 columns</p>\n",
       "</div>"
      ],
      "text/plain": [
       "           SERIES_ID      VAL\n",
       "DATE                         \n",
       "2019-01-01     SP500      NaN\n",
       "2019-01-02     SP500  2510.03\n",
       "2019-01-03     SP500  2447.89\n",
       "2019-01-04     SP500  2531.94\n",
       "2019-01-07     SP500  2549.69\n",
       "...              ...      ...\n",
       "2022-04-12     SP500  4397.45\n",
       "2022-04-13     SP500  4446.59\n",
       "2022-04-14     SP500  4392.59\n",
       "2022-04-15     SP500      NaN\n",
       "2022-04-18     SP500  4391.69\n",
       "\n",
       "[860 rows x 2 columns]"
      ]
     },
     "execution_count": 31,
     "metadata": {},
     "output_type": "execute_result"
    }
   ],
   "source": [
    "date_df"
   ]
  },
  {
   "cell_type": "code",
   "execution_count": 36,
   "id": "d9867103",
   "metadata": {},
   "outputs": [],
   "source": [
    "# insert missing dates and forward fill\n",
    "date_df_filled = date_df.resample('1D').mean().ffill()"
   ]
  },
  {
   "cell_type": "code",
   "execution_count": 39,
   "id": "f2dcc8b2",
   "metadata": {},
   "outputs": [
    {
     "data": {
      "text/html": [
       "<div>\n",
       "<style scoped>\n",
       "    .dataframe tbody tr th:only-of-type {\n",
       "        vertical-align: middle;\n",
       "    }\n",
       "\n",
       "    .dataframe tbody tr th {\n",
       "        vertical-align: top;\n",
       "    }\n",
       "\n",
       "    .dataframe thead th {\n",
       "        text-align: right;\n",
       "    }\n",
       "</style>\n",
       "<table border=\"1\" class=\"dataframe\">\n",
       "  <thead>\n",
       "    <tr style=\"text-align: right;\">\n",
       "      <th></th>\n",
       "      <th>VAL</th>\n",
       "    </tr>\n",
       "    <tr>\n",
       "      <th>DATE</th>\n",
       "      <th></th>\n",
       "    </tr>\n",
       "  </thead>\n",
       "  <tbody>\n",
       "    <tr>\n",
       "      <th>2019-01-01</th>\n",
       "      <td>NaN</td>\n",
       "    </tr>\n",
       "    <tr>\n",
       "      <th>2019-01-02</th>\n",
       "      <td>2510.03</td>\n",
       "    </tr>\n",
       "    <tr>\n",
       "      <th>2019-01-03</th>\n",
       "      <td>2447.89</td>\n",
       "    </tr>\n",
       "    <tr>\n",
       "      <th>2019-01-04</th>\n",
       "      <td>2531.94</td>\n",
       "    </tr>\n",
       "    <tr>\n",
       "      <th>2019-01-05</th>\n",
       "      <td>2531.94</td>\n",
       "    </tr>\n",
       "    <tr>\n",
       "      <th>...</th>\n",
       "      <td>...</td>\n",
       "    </tr>\n",
       "    <tr>\n",
       "      <th>2022-04-14</th>\n",
       "      <td>4392.59</td>\n",
       "    </tr>\n",
       "    <tr>\n",
       "      <th>2022-04-15</th>\n",
       "      <td>4392.59</td>\n",
       "    </tr>\n",
       "    <tr>\n",
       "      <th>2022-04-16</th>\n",
       "      <td>4392.59</td>\n",
       "    </tr>\n",
       "    <tr>\n",
       "      <th>2022-04-17</th>\n",
       "      <td>4392.59</td>\n",
       "    </tr>\n",
       "    <tr>\n",
       "      <th>2022-04-18</th>\n",
       "      <td>4391.69</td>\n",
       "    </tr>\n",
       "  </tbody>\n",
       "</table>\n",
       "<p>1204 rows × 1 columns</p>\n",
       "</div>"
      ],
      "text/plain": [
       "                VAL\n",
       "DATE               \n",
       "2019-01-01      NaN\n",
       "2019-01-02  2510.03\n",
       "2019-01-03  2447.89\n",
       "2019-01-04  2531.94\n",
       "2019-01-05  2531.94\n",
       "...             ...\n",
       "2022-04-14  4392.59\n",
       "2022-04-15  4392.59\n",
       "2022-04-16  4392.59\n",
       "2022-04-17  4392.59\n",
       "2022-04-18  4391.69\n",
       "\n",
       "[1204 rows x 1 columns]"
      ]
     },
     "execution_count": 39,
     "metadata": {},
     "output_type": "execute_result"
    }
   ],
   "source": [
    "date_df_filled"
   ]
  },
  {
   "cell_type": "markdown",
   "id": "d425b3e6",
   "metadata": {},
   "source": [
    "### Plot"
   ]
  },
  {
   "cell_type": "code",
   "execution_count": 42,
   "id": "d124f1c3",
   "metadata": {},
   "outputs": [
    {
     "ename": "AttributeError",
     "evalue": "'AxesSubplot' object has no attribute 'xticks'",
     "output_type": "error",
     "traceback": [
      "\u001b[0;31m---------------------------------------------------------------------------\u001b[0m",
      "\u001b[0;31mAttributeError\u001b[0m                            Traceback (most recent call last)",
      "\u001b[0;32m/var/folders/kz/klxfgxt54zg3ld3hw3501lf80000gp/T/ipykernel_11287/3854036296.py\u001b[0m in \u001b[0;36m<module>\u001b[0;34m\u001b[0m\n\u001b[1;32m      1\u001b[0m \u001b[0mplt\u001b[0m \u001b[0;34m=\u001b[0m \u001b[0msns\u001b[0m\u001b[0;34m.\u001b[0m\u001b[0mlineplot\u001b[0m\u001b[0;34m(\u001b[0m\u001b[0mdata\u001b[0m\u001b[0;34m=\u001b[0m\u001b[0mdate_df_filled\u001b[0m\u001b[0;34m,\u001b[0m \u001b[0mx\u001b[0m\u001b[0;34m=\u001b[0m\u001b[0;34m'DATE'\u001b[0m\u001b[0;34m,\u001b[0m \u001b[0my\u001b[0m\u001b[0;34m=\u001b[0m\u001b[0;34m'VAL'\u001b[0m\u001b[0;34m)\u001b[0m\u001b[0;34m\u001b[0m\u001b[0;34m\u001b[0m\u001b[0m\n\u001b[0;32m----> 2\u001b[0;31m \u001b[0mplt\u001b[0m\u001b[0;34m.\u001b[0m\u001b[0mxticks\u001b[0m\u001b[0;34m(\u001b[0m\u001b[0mrotation\u001b[0m\u001b[0;34m=\u001b[0m\u001b[0;36m45\u001b[0m\u001b[0;34m)\u001b[0m\u001b[0;34m\u001b[0m\u001b[0;34m\u001b[0m\u001b[0m\n\u001b[0m\u001b[1;32m      3\u001b[0m \u001b[0;34m\u001b[0m\u001b[0m\n\u001b[1;32m      4\u001b[0m \u001b[0mplt\u001b[0m\u001b[0;34m.\u001b[0m\u001b[0mset_xticklabels\u001b[0m\u001b[0;34m(\u001b[0m\u001b[0mplt\u001b[0m\u001b[0;34m.\u001b[0m\u001b[0mget_xticklabels\u001b[0m\u001b[0;34m(\u001b[0m\u001b[0;34m)\u001b[0m\u001b[0;34m,\u001b[0m \u001b[0mrotation\u001b[0m\u001b[0;34m=\u001b[0m\u001b[0;36m45\u001b[0m\u001b[0;34m,\u001b[0m \u001b[0mhorizontalalignment\u001b[0m\u001b[0;34m=\u001b[0m\u001b[0;34m'right'\u001b[0m\u001b[0;34m)\u001b[0m\u001b[0;34m\u001b[0m\u001b[0;34m\u001b[0m\u001b[0m\n\u001b[1;32m      5\u001b[0m \u001b[0;34m\u001b[0m\u001b[0m\n",
      "\u001b[0;31mAttributeError\u001b[0m: 'AxesSubplot' object has no attribute 'xticks'"
     ]
    },
    {
     "data": {
      "image/png": "[encoded data removed]",
      "text/plain": [
       "<Figure size 432x288 with 1 Axes>"
      ]
     },
     "metadata": {
      "needs_background": "light"
     },
     "output_type": "display_data"
    }
   ],
   "source": [
    "plt = sns.lineplot(data=date_df_filled, x='DATE', y='VAL')\n",
    "plt.xticks(rotation=45)\n",
    "\n",
    "plt.set_xticklabels(plt.get_xticklabels(), rotation=45, horizontalalignment='right')\n",
    "\n",
    "plt.show()\n",
    "\n",
    "# sns.lineplot(data=may_flights, x=\"year\", y=\"passengers\")"
   ]
  },
  {
   "cell_type": "code",
   "execution_count": 44,
   "id": "a6f0ee88",
   "metadata": {},
   "outputs": [
    {
     "data": {
      "text/html": [
       "<div>\n",
       "<style scoped>\n",
       "    .dataframe tbody tr th:only-of-type {\n",
       "        vertical-align: middle;\n",
       "    }\n",
       "\n",
       "    .dataframe tbody tr th {\n",
       "        vertical-align: top;\n",
       "    }\n",
       "\n",
       "    .dataframe thead th {\n",
       "        text-align: right;\n",
       "    }\n",
       "</style>\n",
       "<table border=\"1\" class=\"dataframe\">\n",
       "  <thead>\n",
       "    <tr style=\"text-align: right;\">\n",
       "      <th></th>\n",
       "      <th>VAL</th>\n",
       "    </tr>\n",
       "    <tr>\n",
       "      <th>DATE</th>\n",
       "      <th></th>\n",
       "    </tr>\n",
       "  </thead>\n",
       "  <tbody>\n",
       "    <tr>\n",
       "      <th>2019-01-01</th>\n",
       "      <td>NaN</td>\n",
       "    </tr>\n",
       "    <tr>\n",
       "      <th>2019-01-02</th>\n",
       "      <td>2510.03</td>\n",
       "    </tr>\n",
       "    <tr>\n",
       "      <th>2019-01-03</th>\n",
       "      <td>2447.89</td>\n",
       "    </tr>\n",
       "    <tr>\n",
       "      <th>2019-01-04</th>\n",
       "      <td>2531.94</td>\n",
       "    </tr>\n",
       "    <tr>\n",
       "      <th>2019-01-05</th>\n",
       "      <td>2531.94</td>\n",
       "    </tr>\n",
       "    <tr>\n",
       "      <th>...</th>\n",
       "      <td>...</td>\n",
       "    </tr>\n",
       "    <tr>\n",
       "      <th>2022-04-14</th>\n",
       "      <td>4392.59</td>\n",
       "    </tr>\n",
       "    <tr>\n",
       "      <th>2022-04-15</th>\n",
       "      <td>4392.59</td>\n",
       "    </tr>\n",
       "    <tr>\n",
       "      <th>2022-04-16</th>\n",
       "      <td>4392.59</td>\n",
       "    </tr>\n",
       "    <tr>\n",
       "      <th>2022-04-17</th>\n",
       "      <td>4392.59</td>\n",
       "    </tr>\n",
       "    <tr>\n",
       "      <th>2022-04-18</th>\n",
       "      <td>4391.69</td>\n",
       "    </tr>\n",
       "  </tbody>\n",
       "</table>\n",
       "<p>1204 rows × 1 columns</p>\n",
       "</div>"
      ],
      "text/plain": [
       "                VAL\n",
       "DATE               \n",
       "2019-01-01      NaN\n",
       "2019-01-02  2510.03\n",
       "2019-01-03  2447.89\n",
       "2019-01-04  2531.94\n",
       "2019-01-05  2531.94\n",
       "...             ...\n",
       "2022-04-14  4392.59\n",
       "2022-04-15  4392.59\n",
       "2022-04-16  4392.59\n",
       "2022-04-17  4392.59\n",
       "2022-04-18  4391.69\n",
       "\n",
       "[1204 rows x 1 columns]"
      ]
     },
     "execution_count": 44,
     "metadata": {},
     "output_type": "execute_result"
    }
   ],
   "source": [
    "date_df_filled"
   ]
  },
  {
   "cell_type": "code",
   "execution_count": 48,
   "id": "9948545d",
   "metadata": {},
   "outputs": [],
   "source": [
    "date_df_filled.rename(columns={\"VAL\": \"SP_INDEX\"}, inplace=True)\n"
   ]
  },
  {
   "cell_type": "code",
   "execution_count": 49,
   "id": "df4456d4",
   "metadata": {},
   "outputs": [],
   "source": [
    "date_df_filled.to_csv('../data/processed/snp_filled.csv')"
   ]
  }
 ],
 "metadata": {
  "kernelspec": {
   "display_name": "Python 3 (ipykernel)",
   "language": "python",
   "name": "python3"
  },
  "language_info": {
   "codemirror_mode": {
    "name": "ipython",
    "version": 3
   },
   "file_extension": ".py",
   "mimetype": "text/x-python",
   "name": "python",
   "nbconvert_exporter": "python",
   "pygments_lexer": "ipython3",
   "version": "3.9.7"
  }
 },
 "nbformat": 4,
 "nbformat_minor": 5
}
