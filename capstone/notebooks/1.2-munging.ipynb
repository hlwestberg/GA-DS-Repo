{
 "cells": [
  {
   "cell_type": "markdown",
   "id": "ad72a29f",
   "metadata": {},
   "source": [
    "## Import Libraries"
   ]
  },
  {
   "cell_type": "code",
   "execution_count": 2,
   "id": "98220df7",
   "metadata": {},
   "outputs": [],
   "source": [
    "import pandas as pd\n",
    "import matplotlib.pyplot as plt\n",
    "import seaborn as sns\n",
    "import numpy as np"
   ]
  },
  {
   "cell_type": "markdown",
   "id": "21c25632",
   "metadata": {},
   "source": [
    "### Summary of Notes/ To Dos:\n",
    "- fix dates\n",
    "- remove outliers, based on sessions\n",
    "- fill nulls for pitch? or just drop?\n",
    "- add headline length column\n",
    "- ad some date columns\n",
    "- drop lower count bureaus:\n",
    "    - the-business\n",
    "    - research\n",
    "    - the ascent  \n",
    "- drop lower count article types\n",
    "- don't use author, don't use collection\n",
    "- publish date and time seem to influence sessions\n",
    "- filter to just article type = article and drop this as a feature? or include other article types?\n",
    "- what to do with tags, where there is very few samples of a tag? weighting?\n",
    "- handling headline and promo text- should I encode those first and then use them as features? or cluster them? or use bag of works? something to discuss with Jacob and Ben. \n",
    "- don't include tickers for now- too much scope for this project, but would be interesting in future iteration"
   ]
  },
  {
   "cell_type": "markdown",
   "id": "905473e9",
   "metadata": {},
   "source": [
    "# Load in Data Set"
   ]
  },
  {
   "cell_type": "code",
   "execution_count": 4,
   "id": "d8a5f21c",
   "metadata": {},
   "outputs": [],
   "source": [
    "articles = pd.read_csv('../data/raw/articles.csv', parse_dates=True)"
   ]
  },
  {
   "cell_type": "markdown",
   "id": "23a3bf4b",
   "metadata": {},
   "source": [
    "### Inspect Data Set"
   ]
  },
  {
   "cell_type": "code",
   "execution_count": 5,
   "id": "ab655b81",
   "metadata": {},
   "outputs": [],
   "source": [
    "# copy df \n",
    "articles_df = articles.copy()"
   ]
  },
  {
   "cell_type": "markdown",
   "id": "af9ac9c2",
   "metadata": {},
   "source": [
    "### Dates"
   ]
  },
  {
   "cell_type": "code",
   "execution_count": 6,
   "id": "14826299",
   "metadata": {},
   "outputs": [],
   "source": [
    "# Fix publish date column\n",
    "articles_df['PUBLISH_DATE'] = pd.to_datetime(articles_df['PUBLISH_DATE'])"
   ]
  },
  {
   "cell_type": "code",
   "execution_count": 7,
   "id": "a89c213b",
   "metadata": {},
   "outputs": [],
   "source": [
    "# create day of week column\n",
    "articles_df['DAY_OF_WEEK']= articles_df['PUBLISH_DATE'].dt.weekday"
   ]
  },
  {
   "cell_type": "code",
   "execution_count": 8,
   "id": "cc9053e2",
   "metadata": {},
   "outputs": [],
   "source": [
    "# create month column\n",
    "articles_df['PUBLISH_MONTH']= articles_df['PUBLISH_DATE'].dt.month "
   ]
  },
  {
   "cell_type": "markdown",
   "id": "4816e9cf",
   "metadata": {},
   "source": [
    "### Remove outliers"
   ]
  },
  {
   "cell_type": "code",
   "execution_count": 9,
   "id": "ad949fd2",
   "metadata": {},
   "outputs": [],
   "source": [
    "# set upper and lower bounds\n",
    "upper = articles_df['CUM_SESSIONS_SOFAR'].mean() + 4*articles_df['CUM_SESSIONS_SOFAR'].std()\n",
    "lower= articles_df['CUM_SESSIONS_SOFAR'].mean() - 4* articles_df['CUM_SESSIONS_SOFAR'].std()"
   ]
  },
  {
   "cell_type": "code",
   "execution_count": 10,
   "id": "5dc5c117",
   "metadata": {},
   "outputs": [],
   "source": [
    "articles_df= articles_df[(articles_df['CUM_SESSIONS_SOFAR'] < upper) & (articles_df['CUM_SESSIONS_SOFAR'] > lower)]"
   ]
  },
  {
   "cell_type": "markdown",
   "id": "0a219e01",
   "metadata": {},
   "source": [
    "### Bureau"
   ]
  },
  {
   "cell_type": "code",
   "execution_count": null,
   "id": "4d7e49e2",
   "metadata": {},
   "outputs": [],
   "source": [
    "### drop bureaus - drop_these = ['the ascent', 'the-business', 'research', 'unknown bureau', 'other']"
   ]
  },
  {
   "cell_type": "code",
   "execution_count": 11,
   "id": "28ddee43",
   "metadata": {},
   "outputs": [],
   "source": [
    "articles_df = articles_df[~articles_df['BUREAU'].isin(['the ascent', 'the-business', 'research', 'unknown bureau', 'other'])]\n"
   ]
  },
  {
   "cell_type": "code",
   "execution_count": 14,
   "id": "ca86ba56",
   "metadata": {},
   "outputs": [],
   "source": [
    "# replace marijuana with cannabis\n",
    "articles_df['BUREAU'] = np.where(articles_df['BUREAU'] =='marijuana', 'cannabis', articles_df['BUREAU'])"
   ]
  },
  {
   "cell_type": "code",
   "execution_count": 25,
   "id": "6d618608",
   "metadata": {},
   "outputs": [
    {
     "data": {
      "text/plain": [
       "technology-and-telecom            5366\n",
       "consumer-goods                    4480\n",
       "health-care                       2977\n",
       "industrials                       2359\n",
       "investment-planning               2040\n",
       "financials                        1978\n",
       "energy-materials-and-utilities    1513\n",
       "cryptocurrency                     754\n",
       "markets                            581\n",
       "real estate                        534\n",
       "cannabis                           517\n",
       "Name: BUREAU, dtype: int64"
      ]
     },
     "execution_count": 25,
     "metadata": {},
     "output_type": "execute_result"
    }
   ],
   "source": [
    "### check\n",
    "articles_df['BUREAU'].value_counts()"
   ]
  },
  {
   "cell_type": "markdown",
   "id": "b6eba9ba",
   "metadata": {},
   "source": [
    "### Article Type"
   ]
  },
  {
   "cell_type": "code",
   "execution_count": 16,
   "id": "6d708a7e",
   "metadata": {},
   "outputs": [
    {
     "data": {
      "text/plain": [
       "article                 12590\n",
       "10% promise series       4257\n",
       "transcript               3311\n",
       "news brief               1442\n",
       "video                    1242\n",
       "roundtable                257\n",
       "news                        1\n",
       "unknown article type        1\n",
       "Name: ARTICLE_TYPE, dtype: int64"
      ]
     },
     "execution_count": 16,
     "metadata": {},
     "output_type": "execute_result"
    }
   ],
   "source": [
    "articles_df['ARTICLE_TYPE'].value_counts()"
   ]
  },
  {
   "cell_type": "code",
   "execution_count": 18,
   "id": "84541cc1",
   "metadata": {},
   "outputs": [],
   "source": [
    "# Drop article types - ['unknown article type' , 'news']"
   ]
  },
  {
   "cell_type": "code",
   "execution_count": 19,
   "id": "216e5c81",
   "metadata": {},
   "outputs": [],
   "source": [
    "articles_df = articles_df[~articles_df['ARTICLE_TYPE'].isin(['unknown article type' , 'news'])]\n"
   ]
  },
  {
   "cell_type": "markdown",
   "id": "9f0975cb",
   "metadata": {},
   "source": [
    "### Add Headline Length"
   ]
  },
  {
   "cell_type": "code",
   "execution_count": 20,
   "id": "89472131",
   "metadata": {},
   "outputs": [],
   "source": [
    "articles_df['HEADLINE_LEN'] = articles_df.HEADLINE.apply(len)"
   ]
  },
  {
   "cell_type": "markdown",
   "id": "ae11dbd3",
   "metadata": {},
   "source": [
    "### Check for Nulls again"
   ]
  },
  {
   "cell_type": "code",
   "execution_count": 21,
   "id": "30250e4f",
   "metadata": {},
   "outputs": [
    {
     "data": {
      "text/plain": [
       "HEADLINE                0\n",
       "PUBLISH_DATE            0\n",
       "PUBLISHTIMEINSECONDS    0\n",
       "WEEKDAY                 0\n",
       "HOLIDAY                 0\n",
       "BUREAU                  0\n",
       "AUTHOR                  0\n",
       "ARTICLE_TYPE            0\n",
       "COLLECTION              0\n",
       "TICKERS                 0\n",
       "PROMO                   0\n",
       "PITCH                   4\n",
       "DUO                     0\n",
       "CHARTICLE               0\n",
       "NON_PAID_VIDEO          0\n",
       "CUM_SESSIONS_SOFAR      0\n",
       "SES                     0\n",
       "SE_VALUE                0\n",
       "COST                    0\n",
       "TOTAL_VALUE             0\n",
       "MARGIN                  0\n",
       "PROFITABLE              0\n",
       "DAY_OF_WEEK             0\n",
       "PUBLISH_MONTH           0\n",
       "HEADLINE_LEN            0\n",
       "dtype: int64"
      ]
     },
     "execution_count": 21,
     "metadata": {},
     "output_type": "execute_result"
    }
   ],
   "source": [
    "articles_df.isnull().sum()\n"
   ]
  },
  {
   "cell_type": "markdown",
   "id": "66da4708",
   "metadata": {},
   "source": [
    "### Choose final columns and export to processed folders"
   ]
  },
  {
   "cell_type": "code",
   "execution_count": 22,
   "id": "93a13801",
   "metadata": {},
   "outputs": [],
   "source": [
    "final = articles_df[[\n",
    "'HEADLINE', \n",
    "'HEADLINE_LEN',\n",
    "'PUBLISH_DATE', \n",
    "'DAY_OF_WEEK',             \n",
    "'PUBLISH_MONTH', \n",
    "'PUBLISHTIMEINSECONDS',    \n",
    "'WEEKDAY',                 \n",
    "'HOLIDAY',                 \n",
    "'BUREAU',                                  \n",
    "'ARTICLE_TYPE',                            \n",
    "'PROMO',                                              \n",
    "'CUM_SESSIONS_SOFAR'                  \n",
    "]]                    \n",
    "                               "
   ]
  },
  {
   "cell_type": "code",
   "execution_count": 23,
   "id": "f8928664",
   "metadata": {},
   "outputs": [
    {
     "data": {
      "text/html": [
       "<div>\n",
       "<style scoped>\n",
       "    .dataframe tbody tr th:only-of-type {\n",
       "        vertical-align: middle;\n",
       "    }\n",
       "\n",
       "    .dataframe tbody tr th {\n",
       "        vertical-align: top;\n",
       "    }\n",
       "\n",
       "    .dataframe thead th {\n",
       "        text-align: right;\n",
       "    }\n",
       "</style>\n",
       "<table border=\"1\" class=\"dataframe\">\n",
       "  <thead>\n",
       "    <tr style=\"text-align: right;\">\n",
       "      <th></th>\n",
       "      <th>HEADLINE</th>\n",
       "      <th>HEADLINE_LEN</th>\n",
       "      <th>PUBLISH_DATE</th>\n",
       "      <th>DAY_OF_WEEK</th>\n",
       "      <th>PUBLISH_MONTH</th>\n",
       "      <th>PUBLISHTIMEINSECONDS</th>\n",
       "      <th>WEEKDAY</th>\n",
       "      <th>HOLIDAY</th>\n",
       "      <th>BUREAU</th>\n",
       "      <th>ARTICLE_TYPE</th>\n",
       "      <th>PROMO</th>\n",
       "      <th>CUM_SESSIONS_SOFAR</th>\n",
       "    </tr>\n",
       "  </thead>\n",
       "  <tbody>\n",
       "    <tr>\n",
       "      <th>0</th>\n",
       "      <td>2 under-the-radar tech stocks to buy in 2022</td>\n",
       "      <td>45</td>\n",
       "      <td>2022-04-12</td>\n",
       "      <td>1</td>\n",
       "      <td>4</td>\n",
       "      <td>22740</td>\n",
       "      <td>Weekday</td>\n",
       "      <td>No</td>\n",
       "      <td>technology-and-telecom</td>\n",
       "      <td>article</td>\n",
       "      <td>These two companies an enjoying explosive top-...</td>\n",
       "      <td>207</td>\n",
       "    </tr>\n",
       "    <tr>\n",
       "      <th>1</th>\n",
       "      <td>does it matter that gamestop's split will be a...</td>\n",
       "      <td>63</td>\n",
       "      <td>2022-04-12</td>\n",
       "      <td>1</td>\n",
       "      <td>4</td>\n",
       "      <td>32400</td>\n",
       "      <td>Weekday</td>\n",
       "      <td>No</td>\n",
       "      <td>consumer-goods</td>\n",
       "      <td>article</td>\n",
       "      <td>Just how different is it from a cash dividend?</td>\n",
       "      <td>5811</td>\n",
       "    </tr>\n",
       "    <tr>\n",
       "      <th>2</th>\n",
       "      <td>is amazon stock a buy this month?</td>\n",
       "      <td>34</td>\n",
       "      <td>2022-04-12</td>\n",
       "      <td>1</td>\n",
       "      <td>4</td>\n",
       "      <td>38220</td>\n",
       "      <td>Weekday</td>\n",
       "      <td>No</td>\n",
       "      <td>consumer-goods</td>\n",
       "      <td>article</td>\n",
       "      <td>There are strong reasons to invest in Amazon r...</td>\n",
       "      <td>1637</td>\n",
       "    </tr>\n",
       "    <tr>\n",
       "      <th>3</th>\n",
       "      <td>2 stocks that cut you a check each month</td>\n",
       "      <td>41</td>\n",
       "      <td>2022-04-12</td>\n",
       "      <td>1</td>\n",
       "      <td>4</td>\n",
       "      <td>33420</td>\n",
       "      <td>Weekday</td>\n",
       "      <td>No</td>\n",
       "      <td>industrials</td>\n",
       "      <td>article</td>\n",
       "      <td>For some investors, dividend income that flows...</td>\n",
       "      <td>2037</td>\n",
       "    </tr>\n",
       "    <tr>\n",
       "      <th>4</th>\n",
       "      <td>is amazon or alphabet the better stock split i...</td>\n",
       "      <td>57</td>\n",
       "      <td>2022-04-12</td>\n",
       "      <td>1</td>\n",
       "      <td>4</td>\n",
       "      <td>62220</td>\n",
       "      <td>Weekday</td>\n",
       "      <td>No</td>\n",
       "      <td>technology-and-telecom</td>\n",
       "      <td>article</td>\n",
       "      <td>Both companies dominate much of our digital li...</td>\n",
       "      <td>7682</td>\n",
       "    </tr>\n",
       "    <tr>\n",
       "      <th>...</th>\n",
       "      <td>...</td>\n",
       "      <td>...</td>\n",
       "      <td>...</td>\n",
       "      <td>...</td>\n",
       "      <td>...</td>\n",
       "      <td>...</td>\n",
       "      <td>...</td>\n",
       "      <td>...</td>\n",
       "      <td>...</td>\n",
       "      <td>...</td>\n",
       "      <td>...</td>\n",
       "      <td>...</td>\n",
       "    </tr>\n",
       "    <tr>\n",
       "      <th>24940</th>\n",
       "      <td>why affimed stock is heating up today</td>\n",
       "      <td>38</td>\n",
       "      <td>2022-04-11</td>\n",
       "      <td>0</td>\n",
       "      <td>4</td>\n",
       "      <td>44520</td>\n",
       "      <td>Weekday</td>\n",
       "      <td>No</td>\n",
       "      <td>health-care</td>\n",
       "      <td>10% promise series</td>\n",
       "      <td>The biotech's experimental blood cancer treatm...</td>\n",
       "      <td>318</td>\n",
       "    </tr>\n",
       "    <tr>\n",
       "      <th>24941</th>\n",
       "      <td>3 beaten-down growth stocks -- can they recover?</td>\n",
       "      <td>49</td>\n",
       "      <td>2022-04-11</td>\n",
       "      <td>0</td>\n",
       "      <td>4</td>\n",
       "      <td>23940</td>\n",
       "      <td>Weekday</td>\n",
       "      <td>No</td>\n",
       "      <td>technology-and-telecom</td>\n",
       "      <td>article</td>\n",
       "      <td>These former stock market darlings can be purc...</td>\n",
       "      <td>4138</td>\n",
       "    </tr>\n",
       "    <tr>\n",
       "      <th>24942</th>\n",
       "      <td>why shares of dingdong are volatile today</td>\n",
       "      <td>42</td>\n",
       "      <td>2022-04-11</td>\n",
       "      <td>0</td>\n",
       "      <td>4</td>\n",
       "      <td>47880</td>\n",
       "      <td>Weekday</td>\n",
       "      <td>No</td>\n",
       "      <td>consumer-goods</td>\n",
       "      <td>10% promise series</td>\n",
       "      <td>Lockdowns in China might create a beneficial e...</td>\n",
       "      <td>96</td>\n",
       "    </tr>\n",
       "    <tr>\n",
       "      <th>24943</th>\n",
       "      <td>this cybersecurity stock could just be getting...</td>\n",
       "      <td>55</td>\n",
       "      <td>2022-04-11</td>\n",
       "      <td>0</td>\n",
       "      <td>4</td>\n",
       "      <td>33480</td>\n",
       "      <td>Weekday</td>\n",
       "      <td>No</td>\n",
       "      <td>technology-and-telecom</td>\n",
       "      <td>article</td>\n",
       "      <td>CrowdStrike's stock has cratered during the te...</td>\n",
       "      <td>942</td>\n",
       "    </tr>\n",
       "    <tr>\n",
       "      <th>24944</th>\n",
       "      <td>2 reasons i'm still not investing in ibuying</td>\n",
       "      <td>45</td>\n",
       "      <td>2022-04-11</td>\n",
       "      <td>0</td>\n",
       "      <td>4</td>\n",
       "      <td>32520</td>\n",
       "      <td>Weekday</td>\n",
       "      <td>No</td>\n",
       "      <td>real estate</td>\n",
       "      <td>article</td>\n",
       "      <td>Insane home price growth has made iBuying more...</td>\n",
       "      <td>161</td>\n",
       "    </tr>\n",
       "  </tbody>\n",
       "</table>\n",
       "<p>23099 rows × 12 columns</p>\n",
       "</div>"
      ],
      "text/plain": [
       "                                                HEADLINE  HEADLINE_LEN  \\\n",
       "0          2 under-the-radar tech stocks to buy in 2022             45   \n",
       "1      does it matter that gamestop's split will be a...            63   \n",
       "2                     is amazon stock a buy this month?             34   \n",
       "3              2 stocks that cut you a check each month             41   \n",
       "4      is amazon or alphabet the better stock split i...            57   \n",
       "...                                                  ...           ...   \n",
       "24940             why affimed stock is heating up today             38   \n",
       "24941  3 beaten-down growth stocks -- can they recover?             49   \n",
       "24942         why shares of dingdong are volatile today             42   \n",
       "24943  this cybersecurity stock could just be getting...            55   \n",
       "24944      2 reasons i'm still not investing in ibuying             45   \n",
       "\n",
       "      PUBLISH_DATE  DAY_OF_WEEK  PUBLISH_MONTH  PUBLISHTIMEINSECONDS  WEEKDAY  \\\n",
       "0       2022-04-12            1              4                 22740  Weekday   \n",
       "1       2022-04-12            1              4                 32400  Weekday   \n",
       "2       2022-04-12            1              4                 38220  Weekday   \n",
       "3       2022-04-12            1              4                 33420  Weekday   \n",
       "4       2022-04-12            1              4                 62220  Weekday   \n",
       "...            ...          ...            ...                   ...      ...   \n",
       "24940   2022-04-11            0              4                 44520  Weekday   \n",
       "24941   2022-04-11            0              4                 23940  Weekday   \n",
       "24942   2022-04-11            0              4                 47880  Weekday   \n",
       "24943   2022-04-11            0              4                 33480  Weekday   \n",
       "24944   2022-04-11            0              4                 32520  Weekday   \n",
       "\n",
       "      HOLIDAY                  BUREAU        ARTICLE_TYPE  \\\n",
       "0          No  technology-and-telecom             article   \n",
       "1          No          consumer-goods             article   \n",
       "2          No          consumer-goods             article   \n",
       "3          No             industrials             article   \n",
       "4          No  technology-and-telecom             article   \n",
       "...       ...                     ...                 ...   \n",
       "24940      No             health-care  10% promise series   \n",
       "24941      No  technology-and-telecom             article   \n",
       "24942      No          consumer-goods  10% promise series   \n",
       "24943      No  technology-and-telecom             article   \n",
       "24944      No             real estate             article   \n",
       "\n",
       "                                                   PROMO  CUM_SESSIONS_SOFAR  \n",
       "0      These two companies an enjoying explosive top-...                 207  \n",
       "1         Just how different is it from a cash dividend?                5811  \n",
       "2      There are strong reasons to invest in Amazon r...                1637  \n",
       "3      For some investors, dividend income that flows...                2037  \n",
       "4      Both companies dominate much of our digital li...                7682  \n",
       "...                                                  ...                 ...  \n",
       "24940  The biotech's experimental blood cancer treatm...                 318  \n",
       "24941  These former stock market darlings can be purc...                4138  \n",
       "24942  Lockdowns in China might create a beneficial e...                  96  \n",
       "24943  CrowdStrike's stock has cratered during the te...                 942  \n",
       "24944  Insane home price growth has made iBuying more...                 161  \n",
       "\n",
       "[23099 rows x 12 columns]"
      ]
     },
     "execution_count": 23,
     "metadata": {},
     "output_type": "execute_result"
    }
   ],
   "source": [
    "final"
   ]
  },
  {
   "cell_type": "code",
   "execution_count": 26,
   "id": "6653d6c2",
   "metadata": {},
   "outputs": [],
   "source": [
    "final.to_csv('../data/processed/articles_munged.csv')"
   ]
  },
  {
   "cell_type": "code",
   "execution_count": null,
   "id": "a33727e8",
   "metadata": {},
   "outputs": [],
   "source": []
  }
 ],
 "metadata": {
  "kernelspec": {
   "display_name": "Python 3 (ipykernel)",
   "language": "python",
   "name": "python3"
  },
  "language_info": {
   "codemirror_mode": {
    "name": "ipython",
    "version": 3
   },
   "file_extension": ".py",
   "mimetype": "text/x-python",
   "name": "python",
   "nbconvert_exporter": "python",
   "pygments_lexer": "ipython3",
   "version": "3.9.7"
  }
 },
 "nbformat": 4,
 "nbformat_minor": 5
}
