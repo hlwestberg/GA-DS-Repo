{
 "cells": [
  {
   "cell_type": "markdown",
   "id": "f9687cd7",
   "metadata": {},
   "source": [
    "# Series\n",
    "- in pandas a series is an array\n",
    "- it has an index - it will be numeric by default, but it can be set to something else"
   ]
  },
  {
   "cell_type": "code",
   "execution_count": 6,
   "id": "91118127",
   "metadata": {},
   "outputs": [],
   "source": [
    "import pandas as pd"
   ]
  },
  {
   "cell_type": "code",
   "execution_count": 8,
   "id": "3dbeffa8",
   "metadata": {},
   "outputs": [],
   "source": [
    "# you can assign the index by passing a list to the index object\n",
    "obj1 = pd.Series([1, 3, 5, 7], index=['a', 'b', 'c', 'd'])"
   ]
  },
  {
   "cell_type": "code",
   "execution_count": 11,
   "id": "05f66b31",
   "metadata": {},
   "outputs": [
    {
     "data": {
      "text/plain": [
       "a    1\n",
       "c    5\n",
       "b    3\n",
       "dtype: int64"
      ]
     },
     "execution_count": 11,
     "metadata": {},
     "output_type": "execute_result"
    }
   ],
   "source": [
    "obj1\n",
    "obj1['a']\n",
    "obj1[['a', 'c', 'b']]"
   ]
  },
  {
   "cell_type": "code",
   "execution_count": 12,
   "id": "6dcfdf87",
   "metadata": {},
   "outputs": [
    {
     "data": {
      "text/plain": [
       "a     4\n",
       "b    12\n",
       "c    20\n",
       "d    28\n",
       "dtype: int64"
      ]
     },
     "execution_count": 12,
     "metadata": {},
     "output_type": "execute_result"
    }
   ],
   "source": [
    "# applying operations will keep the index the same:\n",
    "obj1 * 4"
   ]
  },
  {
   "cell_type": "code",
   "execution_count": 14,
   "id": "fa3ce500",
   "metadata": {},
   "outputs": [
    {
     "data": {
      "text/plain": [
       "False"
      ]
     },
     "execution_count": 14,
     "metadata": {},
     "output_type": "execute_result"
    }
   ],
   "source": [
    "# you can also look for values in a series, like a dict\n",
    "'a' in obj1\n",
    "'z' in obj1\n"
   ]
  },
  {
   "cell_type": "code",
   "execution_count": 18,
   "id": "e25103b5",
   "metadata": {},
   "outputs": [],
   "source": [
    "# you can also create a series from a dict:\n",
    "\n",
    "dict_data = {'Hannah': 'middle', 'Josh': 'eldest', 'Kate': 'youngest'}\n",
    "sibs = pd.Series(dict_data)"
   ]
  },
  {
   "cell_type": "code",
   "execution_count": 22,
   "id": "518cf6a0",
   "metadata": {},
   "outputs": [],
   "source": [
    "# You can name a series\n",
    "sibs.name = 'westberg_siblings'"
   ]
  },
  {
   "cell_type": "code",
   "execution_count": 23,
   "id": "375451c0",
   "metadata": {},
   "outputs": [
    {
     "data": {
      "text/plain": [
       "Hannah      middle\n",
       "Josh        eldest\n",
       "Kate      youngest\n",
       "Name: westberg_siblings, dtype: object"
      ]
     },
     "execution_count": 23,
     "metadata": {},
     "output_type": "execute_result"
    }
   ],
   "source": [
    "sibs"
   ]
  },
  {
   "cell_type": "code",
   "execution_count": 25,
   "id": "70b0d9ef",
   "metadata": {},
   "outputs": [],
   "source": [
    "# you can also re-assign the index after it has been created:\n",
    "sibs.index = ['han', 'joosh', 'kat']"
   ]
  },
  {
   "cell_type": "code",
   "execution_count": 26,
   "id": "69aa92ae",
   "metadata": {},
   "outputs": [
    {
     "data": {
      "text/plain": [
       "han        middle\n",
       "joosh      eldest\n",
       "kat      youngest\n",
       "Name: westberg_siblings, dtype: object"
      ]
     },
     "execution_count": 26,
     "metadata": {},
     "output_type": "execute_result"
    }
   ],
   "source": [
    "sibs"
   ]
  },
  {
   "cell_type": "markdown",
   "id": "151bd56a",
   "metadata": {},
   "source": [
    "# Dataframe\n",
    "- table of data with ordered columns if dif value types\n",
    "- rows and columns both have indexes. \n"
   ]
  },
  {
   "cell_type": "code",
   "execution_count": 31,
   "id": "9bf896e5",
   "metadata": {},
   "outputs": [
    {
     "data": {
      "text/html": [
       "<div>\n",
       "<style scoped>\n",
       "    .dataframe tbody tr th:only-of-type {\n",
       "        vertical-align: middle;\n",
       "    }\n",
       "\n",
       "    .dataframe tbody tr th {\n",
       "        vertical-align: top;\n",
       "    }\n",
       "\n",
       "    .dataframe thead th {\n",
       "        text-align: right;\n",
       "    }\n",
       "</style>\n",
       "<table border=\"1\" class=\"dataframe\">\n",
       "  <thead>\n",
       "    <tr style=\"text-align: right;\">\n",
       "      <th></th>\n",
       "      <th>breed</th>\n",
       "      <th>weight</th>\n",
       "      <th>color</th>\n",
       "    </tr>\n",
       "  </thead>\n",
       "  <tbody>\n",
       "    <tr>\n",
       "      <th>0</th>\n",
       "      <td>yorkie</td>\n",
       "      <td>14</td>\n",
       "      <td>black</td>\n",
       "    </tr>\n",
       "    <tr>\n",
       "      <th>1</th>\n",
       "      <td>lab</td>\n",
       "      <td>50</td>\n",
       "      <td>gold</td>\n",
       "    </tr>\n",
       "    <tr>\n",
       "      <th>2</th>\n",
       "      <td>chihuaha</td>\n",
       "      <td>5</td>\n",
       "      <td>brown</td>\n",
       "    </tr>\n",
       "    <tr>\n",
       "      <th>3</th>\n",
       "      <td>mutt</td>\n",
       "      <td>35</td>\n",
       "      <td>merle</td>\n",
       "    </tr>\n",
       "  </tbody>\n",
       "</table>\n",
       "</div>"
      ],
      "text/plain": [
       "      breed  weight  color\n",
       "0    yorkie      14  black\n",
       "1       lab      50   gold\n",
       "2  chihuaha       5  brown\n",
       "3      mutt      35  merle"
      ]
     },
     "execution_count": 31,
     "metadata": {},
     "output_type": "execute_result"
    }
   ],
   "source": [
    "# you can build a df from a dict:\n",
    "data={'breed':['yorkie', 'lab', 'chihuaha', 'mutt'],\n",
    "      'weight':[14, 50, 5, 35],\n",
    "      'color':['black', 'gold', 'brown', 'merle']}\n",
    "\n",
    "df = pd.DataFrame(data)\n",
    "\n",
    "df"
   ]
  },
  {
   "cell_type": "code",
   "execution_count": 33,
   "id": "05052373",
   "metadata": {},
   "outputs": [
    {
     "data": {
      "text/plain": [
       "0      yorkie\n",
       "1         lab\n",
       "2    chihuaha\n",
       "3        mutt\n",
       "Name: breed, dtype: object"
      ]
     },
     "execution_count": 33,
     "metadata": {},
     "output_type": "execute_result"
    }
   ],
   "source": [
    "# retrieve a column by dict notation or attribute:\n",
    "df['breed']\n",
    "df.breed\n"
   ]
  },
  {
   "cell_type": "code",
   "execution_count": 36,
   "id": "efffad9e",
   "metadata": {},
   "outputs": [
    {
     "data": {
      "text/plain": [
       "breed     chihuaha\n",
       "weight           5\n",
       "color        brown\n",
       "Name: 2, dtype: object"
      ]
     },
     "execution_count": 36,
     "metadata": {},
     "output_type": "execute_result"
    }
   ],
   "source": [
    "# get a row by loc\n",
    "df.loc[2]"
   ]
  },
  {
   "cell_type": "code",
   "execution_count": 41,
   "id": "05ad1fef",
   "metadata": {},
   "outputs": [
    {
     "data": {
      "text/html": [
       "<div>\n",
       "<style scoped>\n",
       "    .dataframe tbody tr th:only-of-type {\n",
       "        vertical-align: middle;\n",
       "    }\n",
       "\n",
       "    .dataframe tbody tr th {\n",
       "        vertical-align: top;\n",
       "    }\n",
       "\n",
       "    .dataframe thead th {\n",
       "        text-align: right;\n",
       "    }\n",
       "</style>\n",
       "<table border=\"1\" class=\"dataframe\">\n",
       "  <thead>\n",
       "    <tr style=\"text-align: right;\">\n",
       "      <th></th>\n",
       "      <th>breed</th>\n",
       "      <th>weight</th>\n",
       "      <th>color</th>\n",
       "      <th>pct_fat</th>\n",
       "    </tr>\n",
       "  </thead>\n",
       "  <tbody>\n",
       "    <tr>\n",
       "      <th>0</th>\n",
       "      <td>yorkie</td>\n",
       "      <td>14</td>\n",
       "      <td>black</td>\n",
       "      <td>0.56</td>\n",
       "    </tr>\n",
       "    <tr>\n",
       "      <th>1</th>\n",
       "      <td>lab</td>\n",
       "      <td>50</td>\n",
       "      <td>gold</td>\n",
       "      <td>2.00</td>\n",
       "    </tr>\n",
       "    <tr>\n",
       "      <th>2</th>\n",
       "      <td>chihuaha</td>\n",
       "      <td>5</td>\n",
       "      <td>brown</td>\n",
       "      <td>0.20</td>\n",
       "    </tr>\n",
       "    <tr>\n",
       "      <th>3</th>\n",
       "      <td>mutt</td>\n",
       "      <td>35</td>\n",
       "      <td>merle</td>\n",
       "      <td>1.40</td>\n",
       "    </tr>\n",
       "  </tbody>\n",
       "</table>\n",
       "</div>"
      ],
      "text/plain": [
       "      breed  weight  color  pct_fat\n",
       "0    yorkie      14  black     0.56\n",
       "1       lab      50   gold     2.00\n",
       "2  chihuaha       5  brown     0.20\n",
       "3      mutt      35  merle     1.40"
      ]
     },
     "execution_count": 41,
     "metadata": {},
     "output_type": "execute_result"
    }
   ],
   "source": [
    "# creating a column\n",
    "df['pct_fat'] = df['weight'] * .04\n",
    "df"
   ]
  },
  {
   "cell_type": "code",
   "execution_count": 42,
   "id": "28608645",
   "metadata": {},
   "outputs": [],
   "source": [
    "#deleting a column\n",
    "del df['pct_fat']"
   ]
  },
  {
   "cell_type": "code",
   "execution_count": 43,
   "id": "d632864e",
   "metadata": {},
   "outputs": [
    {
     "data": {
      "text/html": [
       "<div>\n",
       "<style scoped>\n",
       "    .dataframe tbody tr th:only-of-type {\n",
       "        vertical-align: middle;\n",
       "    }\n",
       "\n",
       "    .dataframe tbody tr th {\n",
       "        vertical-align: top;\n",
       "    }\n",
       "\n",
       "    .dataframe thead th {\n",
       "        text-align: right;\n",
       "    }\n",
       "</style>\n",
       "<table border=\"1\" class=\"dataframe\">\n",
       "  <thead>\n",
       "    <tr style=\"text-align: right;\">\n",
       "      <th></th>\n",
       "      <th>breed</th>\n",
       "      <th>weight</th>\n",
       "      <th>color</th>\n",
       "    </tr>\n",
       "  </thead>\n",
       "  <tbody>\n",
       "    <tr>\n",
       "      <th>0</th>\n",
       "      <td>yorkie</td>\n",
       "      <td>14</td>\n",
       "      <td>black</td>\n",
       "    </tr>\n",
       "    <tr>\n",
       "      <th>1</th>\n",
       "      <td>lab</td>\n",
       "      <td>50</td>\n",
       "      <td>gold</td>\n",
       "    </tr>\n",
       "    <tr>\n",
       "      <th>2</th>\n",
       "      <td>chihuaha</td>\n",
       "      <td>5</td>\n",
       "      <td>brown</td>\n",
       "    </tr>\n",
       "    <tr>\n",
       "      <th>3</th>\n",
       "      <td>mutt</td>\n",
       "      <td>35</td>\n",
       "      <td>merle</td>\n",
       "    </tr>\n",
       "  </tbody>\n",
       "</table>\n",
       "</div>"
      ],
      "text/plain": [
       "      breed  weight  color\n",
       "0    yorkie      14  black\n",
       "1       lab      50   gold\n",
       "2  chihuaha       5  brown\n",
       "3      mutt      35  merle"
      ]
     },
     "execution_count": 43,
     "metadata": {},
     "output_type": "execute_result"
    }
   ],
   "source": [
    "df"
   ]
  },
  {
   "cell_type": "code",
   "execution_count": 44,
   "id": "44a6159b",
   "metadata": {},
   "outputs": [
    {
     "data": {
      "text/html": [
       "<div>\n",
       "<style scoped>\n",
       "    .dataframe tbody tr th:only-of-type {\n",
       "        vertical-align: middle;\n",
       "    }\n",
       "\n",
       "    .dataframe tbody tr th {\n",
       "        vertical-align: top;\n",
       "    }\n",
       "\n",
       "    .dataframe thead th {\n",
       "        text-align: right;\n",
       "    }\n",
       "</style>\n",
       "<table border=\"1\" class=\"dataframe\">\n",
       "  <thead>\n",
       "    <tr style=\"text-align: right;\">\n",
       "      <th></th>\n",
       "      <th>0</th>\n",
       "      <th>1</th>\n",
       "      <th>2</th>\n",
       "      <th>3</th>\n",
       "    </tr>\n",
       "  </thead>\n",
       "  <tbody>\n",
       "    <tr>\n",
       "      <th>breed</th>\n",
       "      <td>yorkie</td>\n",
       "      <td>lab</td>\n",
       "      <td>chihuaha</td>\n",
       "      <td>mutt</td>\n",
       "    </tr>\n",
       "    <tr>\n",
       "      <th>weight</th>\n",
       "      <td>14</td>\n",
       "      <td>50</td>\n",
       "      <td>5</td>\n",
       "      <td>35</td>\n",
       "    </tr>\n",
       "    <tr>\n",
       "      <th>color</th>\n",
       "      <td>black</td>\n",
       "      <td>gold</td>\n",
       "      <td>brown</td>\n",
       "      <td>merle</td>\n",
       "    </tr>\n",
       "  </tbody>\n",
       "</table>\n",
       "</div>"
      ],
      "text/plain": [
       "             0     1         2      3\n",
       "breed   yorkie   lab  chihuaha   mutt\n",
       "weight      14    50         5     35\n",
       "color    black  gold     brown  merle"
      ]
     },
     "execution_count": 44,
     "metadata": {},
     "output_type": "execute_result"
    }
   ],
   "source": [
    "#transpose df\n",
    "df.T"
   ]
  },
  {
   "cell_type": "code",
   "execution_count": 46,
   "id": "cd5b0d41",
   "metadata": {},
   "outputs": [
    {
     "data": {
      "text/plain": [
       "True"
      ]
     },
     "execution_count": 46,
     "metadata": {},
     "output_type": "execute_result"
    }
   ],
   "source": [
    "df.columns\n",
    "\n",
    "'breed' in df.columns"
   ]
  },
  {
   "cell_type": "markdown",
   "id": "6fa9a4d4",
   "metadata": {},
   "source": [
    "# Essential Functions"
   ]
  },
  {
   "cell_type": "code",
   "execution_count": 50,
   "id": "4a247e96",
   "metadata": {},
   "outputs": [
    {
     "data": {
      "text/plain": [
       "d    4.5\n",
       "b    7.2\n",
       "a   -5.3\n",
       "c    3.6\n",
       "dtype: float64"
      ]
     },
     "execution_count": 50,
     "metadata": {},
     "output_type": "execute_result"
    }
   ],
   "source": [
    "# reindexing\n",
    "obj= pd.Series([4.5, 7.2, -5.3, 3.6], ['d', 'b', 'a', 'c'])\n",
    "obj"
   ]
  },
  {
   "cell_type": "code",
   "execution_count": 53,
   "id": "a9d66aec",
   "metadata": {},
   "outputs": [
    {
     "data": {
      "text/plain": [
       "a   -5.3\n",
       "b    7.2\n",
       "c    3.6\n",
       "d    4.5\n",
       "e    NaN\n",
       "dtype: float64"
      ]
     },
     "execution_count": 53,
     "metadata": {},
     "output_type": "execute_result"
    }
   ],
   "source": [
    "# reindexing will rearrange the data and inset nulls where there was no previous index:\n",
    "obj2 = obj.reindex(['a', 'b', 'c', 'd', 'e'])b\n",
    "obj2"
   ]
  },
  {
   "cell_type": "code",
   "execution_count": 54,
   "id": "7f503232",
   "metadata": {},
   "outputs": [],
   "source": [
    "#drop a row\n",
    "new_obj = obj2.drop('c')"
   ]
  },
  {
   "cell_type": "code",
   "execution_count": null,
   "id": "fa97474b",
   "metadata": {},
   "outputs": [],
   "source": []
  },
  {
   "cell_type": "code",
   "execution_count": 55,
   "id": "b634564e",
   "metadata": {},
   "outputs": [
    {
     "data": {
      "text/plain": [
       "a   -5.3\n",
       "b    7.2\n",
       "d    4.5\n",
       "e    NaN\n",
       "dtype: float64"
      ]
     },
     "execution_count": 55,
     "metadata": {},
     "output_type": "execute_result"
    }
   ],
   "source": [
    "new_obj"
   ]
  }
 ],
 "metadata": {
  "kernelspec": {
   "display_name": "Python 3 (ipykernel)",
   "language": "python",
   "name": "python3"
  },
  "language_info": {
   "codemirror_mode": {
    "name": "ipython",
    "version": 3
   },
   "file_extension": ".py",
   "mimetype": "text/x-python",
   "name": "python",
   "nbconvert_exporter": "python",
   "pygments_lexer": "ipython3",
   "version": "3.9.7"
  }
 },
 "nbformat": 4,
 "nbformat_minor": 5
}
