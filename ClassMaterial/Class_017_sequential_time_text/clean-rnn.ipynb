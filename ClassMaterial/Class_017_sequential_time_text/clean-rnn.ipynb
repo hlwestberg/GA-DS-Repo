{
 "cells": [
  {
   "cell_type": "markdown",
   "metadata": {},
   "source": [
    "<img src=\"http://imgur.com/1ZcRyrc.png\" style=\"float: left; margin: 20px; height: 55px\">\n",
    "\n",
    "# Neural Nets for Sequential Data\n",
    "\n",
    "-----\n",
    "**OBJECTIVES**\n",
    "\n",
    "- Explore Recurrent Architectures for sequential data\n",
    "- Explore Convolutional Architectures for sequential data\n",
    "- Use RNN's to model numeric time series data\n",
    "- Use RNN's and CNN's to model text data\n",
    "------"
   ]
  },
  {
   "cell_type": "markdown",
   "metadata": {},
   "source": [
    "## The Recurrent Node\n",
    "\n",
    "Compared to a convential neuron, our recurrent neuron will take in an output from the layer itself.  \n",
    "\n",
    "<center>\n",
    "   <img src = https://upload.wikimedia.org/wikipedia/commons/thumb/b/b5/Recurrent_neural_network_unfold.svg/440px-Recurrent_neural_network_unfold.svg.png />\n",
    "</center>\n",
    "\n"
   ]
  },
  {
   "cell_type": "markdown",
   "metadata": {},
   "source": [
    "### The Network Architecture\n",
    "\n",
    "```python\n",
    "state_t = 0\n",
    "for input_t in input_sequences:\n",
    "    output_t = tanh(W@input_t + U@state_t + b)\n",
    "    state_t = output_t\n",
    "```\n",
    "\n"
   ]
  },
  {
   "cell_type": "markdown",
   "metadata": {},
   "source": [
    "### A Basic Sequence of Stock Prices\n",
    "\n",
    "To begin, let's bring in stock data from yahoo using the `pandas_datareader`. "
   ]
  },
  {
   "cell_type": "code",
   "execution_count": 18,
   "metadata": {},
   "outputs": [],
   "source": [
    "import pandas_datareader as pdr\n",
    "from sklearn.model_selection import train_test_split\n",
    "import numpy as np\n",
    "import pandas as pd\n",
    "import matplotlib.pyplot as plt"
   ]
  },
  {
   "cell_type": "code",
   "execution_count": null,
   "metadata": {},
   "outputs": [],
   "source": [
    "!pip install -U pandas_datareader"
   ]
  },
  {
   "cell_type": "code",
   "execution_count": 4,
   "metadata": {},
   "outputs": [],
   "source": [
    "#get apple stock\n",
    "apple = pdr.get_data_yahoo(\"AAPL\")\n",
    "#apple2 = pd.read_csv('appl.csv', index_col = 0)"
   ]
  },
  {
   "cell_type": "code",
   "execution_count": 5,
   "metadata": {},
   "outputs": [
    {
     "data": {
      "text/html": [
       "<div>\n",
       "<style scoped>\n",
       "    .dataframe tbody tr th:only-of-type {\n",
       "        vertical-align: middle;\n",
       "    }\n",
       "\n",
       "    .dataframe tbody tr th {\n",
       "        vertical-align: top;\n",
       "    }\n",
       "\n",
       "    .dataframe thead th {\n",
       "        text-align: right;\n",
       "    }\n",
       "</style>\n",
       "<table border=\"1\" class=\"dataframe\">\n",
       "  <thead>\n",
       "    <tr style=\"text-align: right;\">\n",
       "      <th></th>\n",
       "      <th>High</th>\n",
       "      <th>Low</th>\n",
       "      <th>Open</th>\n",
       "      <th>Close</th>\n",
       "      <th>Volume</th>\n",
       "      <th>Adj Close</th>\n",
       "    </tr>\n",
       "    <tr>\n",
       "      <th>Date</th>\n",
       "      <th></th>\n",
       "      <th></th>\n",
       "      <th></th>\n",
       "      <th></th>\n",
       "      <th></th>\n",
       "      <th></th>\n",
       "    </tr>\n",
       "  </thead>\n",
       "  <tbody>\n",
       "    <tr>\n",
       "      <th>2017-04-12</th>\n",
       "      <td>35.537498</td>\n",
       "      <td>35.252499</td>\n",
       "      <td>35.400002</td>\n",
       "      <td>35.450001</td>\n",
       "      <td>81400000.0</td>\n",
       "      <td>33.470463</td>\n",
       "    </tr>\n",
       "    <tr>\n",
       "      <th>2017-04-13</th>\n",
       "      <td>35.595001</td>\n",
       "      <td>35.262501</td>\n",
       "      <td>35.477501</td>\n",
       "      <td>35.262501</td>\n",
       "      <td>71291600.0</td>\n",
       "      <td>33.293438</td>\n",
       "    </tr>\n",
       "    <tr>\n",
       "      <th>2017-04-17</th>\n",
       "      <td>35.470001</td>\n",
       "      <td>35.217499</td>\n",
       "      <td>35.369999</td>\n",
       "      <td>35.457500</td>\n",
       "      <td>66328400.0</td>\n",
       "      <td>33.477547</td>\n",
       "    </tr>\n",
       "    <tr>\n",
       "      <th>2017-04-18</th>\n",
       "      <td>35.509998</td>\n",
       "      <td>35.277500</td>\n",
       "      <td>35.352501</td>\n",
       "      <td>35.299999</td>\n",
       "      <td>58790000.0</td>\n",
       "      <td>33.328838</td>\n",
       "    </tr>\n",
       "    <tr>\n",
       "      <th>2017-04-19</th>\n",
       "      <td>35.500000</td>\n",
       "      <td>35.112499</td>\n",
       "      <td>35.470001</td>\n",
       "      <td>35.169998</td>\n",
       "      <td>69313600.0</td>\n",
       "      <td>33.206093</td>\n",
       "    </tr>\n",
       "  </tbody>\n",
       "</table>\n",
       "</div>"
      ],
      "text/plain": [
       "                 High        Low       Open      Close      Volume  Adj Close\n",
       "Date                                                                         \n",
       "2017-04-12  35.537498  35.252499  35.400002  35.450001  81400000.0  33.470463\n",
       "2017-04-13  35.595001  35.262501  35.477501  35.262501  71291600.0  33.293438\n",
       "2017-04-17  35.470001  35.217499  35.369999  35.457500  66328400.0  33.477547\n",
       "2017-04-18  35.509998  35.277500  35.352501  35.299999  58790000.0  33.328838\n",
       "2017-04-19  35.500000  35.112499  35.470001  35.169998  69313600.0  33.206093"
      ]
     },
     "execution_count": 5,
     "metadata": {},
     "output_type": "execute_result"
    }
   ],
   "source": [
    "#take a peek\n",
    "apple.head()"
   ]
  },
  {
   "cell_type": "code",
   "execution_count": null,
   "metadata": {},
   "outputs": [],
   "source": [
    "# apple.to_csv('appl.csv')"
   ]
  },
  {
   "cell_type": "code",
   "execution_count": 6,
   "metadata": {},
   "outputs": [
    {
     "data": {
      "text/plain": [
       "<AxesSubplot:xlabel='Date'>"
      ]
     },
     "execution_count": 6,
     "metadata": {},
     "output_type": "execute_result"
    },
    {
     "data": {
      "image/png": "[encoded data removed]",
      "text/plain": [
       "<Figure size 432x288 with 1 Axes>"
      ]
     },
     "metadata": {
      "needs_background": "light"
     },
     "output_type": "display_data"
    }
   ],
   "source": [
    "#plot the adjusted close\n",
    "apple['Adj Close'].plot()"
   ]
  },
  {
   "cell_type": "code",
   "execution_count": 7,
   "metadata": {},
   "outputs": [
    {
     "data": {
      "text/plain": [
       "<AxesSubplot:xlabel='Date'>"
      ]
     },
     "execution_count": 7,
     "metadata": {},
     "output_type": "execute_result"
    },
    {
     "data": {
      "image/png": "[encoded data removed]",
      "text/plain": [
       "<Figure size 432x288 with 1 Axes>"
      ]
     },
     "metadata": {
      "needs_background": "light"
     },
     "output_type": "display_data"
    }
   ],
   "source": [
    "#look at the percent change\n",
    "apple['Adj Close'].pct_change().plot()\n",
    "# this looks more stationary than looking at the adjusted close"
   ]
  },
  {
   "cell_type": "code",
   "execution_count": 11,
   "metadata": {},
   "outputs": [],
   "source": [
    "#determine X and y\n",
    "# drop na drops the first date- since there will be no prior\n",
    "apple_pchange = apple.pct_change().dropna()\n",
    "X = apple_pchange[['High', 'Low', 'Open', 'Volume']]\n",
    "y2 = apple_pchange['Adj Close']"
   ]
  },
  {
   "cell_type": "code",
   "execution_count": 9,
   "metadata": {},
   "outputs": [
    {
     "data": {
      "text/html": [
       "<div>\n",
       "<style scoped>\n",
       "    .dataframe tbody tr th:only-of-type {\n",
       "        vertical-align: middle;\n",
       "    }\n",
       "\n",
       "    .dataframe tbody tr th {\n",
       "        vertical-align: top;\n",
       "    }\n",
       "\n",
       "    .dataframe thead th {\n",
       "        text-align: right;\n",
       "    }\n",
       "</style>\n",
       "<table border=\"1\" class=\"dataframe\">\n",
       "  <thead>\n",
       "    <tr style=\"text-align: right;\">\n",
       "      <th></th>\n",
       "      <th>High</th>\n",
       "      <th>Low</th>\n",
       "      <th>Open</th>\n",
       "      <th>Close</th>\n",
       "      <th>Volume</th>\n",
       "      <th>Adj Close</th>\n",
       "    </tr>\n",
       "    <tr>\n",
       "      <th>Date</th>\n",
       "      <th></th>\n",
       "      <th></th>\n",
       "      <th></th>\n",
       "      <th></th>\n",
       "      <th></th>\n",
       "      <th></th>\n",
       "    </tr>\n",
       "  </thead>\n",
       "  <tbody>\n",
       "    <tr>\n",
       "      <th>2017-04-13</th>\n",
       "      <td>0.001618</td>\n",
       "      <td>0.000284</td>\n",
       "      <td>0.002189</td>\n",
       "      <td>-0.005289</td>\n",
       "      <td>-0.124182</td>\n",
       "      <td>-0.005289</td>\n",
       "    </tr>\n",
       "    <tr>\n",
       "      <th>2017-04-17</th>\n",
       "      <td>-0.003512</td>\n",
       "      <td>-0.001276</td>\n",
       "      <td>-0.003030</td>\n",
       "      <td>0.005530</td>\n",
       "      <td>-0.069618</td>\n",
       "      <td>0.005530</td>\n",
       "    </tr>\n",
       "    <tr>\n",
       "      <th>2017-04-18</th>\n",
       "      <td>0.001128</td>\n",
       "      <td>0.001704</td>\n",
       "      <td>-0.000495</td>\n",
       "      <td>-0.004442</td>\n",
       "      <td>-0.113653</td>\n",
       "      <td>-0.004442</td>\n",
       "    </tr>\n",
       "    <tr>\n",
       "      <th>2017-04-19</th>\n",
       "      <td>-0.000282</td>\n",
       "      <td>-0.004677</td>\n",
       "      <td>0.003324</td>\n",
       "      <td>-0.003683</td>\n",
       "      <td>0.179003</td>\n",
       "      <td>-0.003683</td>\n",
       "    </tr>\n",
       "    <tr>\n",
       "      <th>2017-04-20</th>\n",
       "      <td>0.006479</td>\n",
       "      <td>0.005055</td>\n",
       "      <td>-0.004652</td>\n",
       "      <td>0.012511</td>\n",
       "      <td>0.345745</td>\n",
       "      <td>0.012511</td>\n",
       "    </tr>\n",
       "    <tr>\n",
       "      <th>...</th>\n",
       "      <td>...</td>\n",
       "      <td>...</td>\n",
       "      <td>...</td>\n",
       "      <td>...</td>\n",
       "      <td>...</td>\n",
       "      <td>...</td>\n",
       "    </tr>\n",
       "    <tr>\n",
       "      <th>2022-04-05</th>\n",
       "      <td>-0.001064</td>\n",
       "      <td>-0.000115</td>\n",
       "      <td>0.016784</td>\n",
       "      <td>-0.018942</td>\n",
       "      <td>-0.040103</td>\n",
       "      <td>-0.018942</td>\n",
       "    </tr>\n",
       "    <tr>\n",
       "      <th>2022-04-06</th>\n",
       "      <td>-0.026192</td>\n",
       "      <td>-0.024596</td>\n",
       "      <td>-0.028958</td>\n",
       "      <td>-0.018451</td>\n",
       "      <td>0.213305</td>\n",
       "      <td>-0.018451</td>\n",
       "    </tr>\n",
       "    <tr>\n",
       "      <th>2022-04-07</th>\n",
       "      <td>-0.001555</td>\n",
       "      <td>-0.001646</td>\n",
       "      <td>-0.006962</td>\n",
       "      <td>0.001804</td>\n",
       "      <td>-0.128725</td>\n",
       "      <td>0.001804</td>\n",
       "    </tr>\n",
       "    <tr>\n",
       "      <th>2022-04-08</th>\n",
       "      <td>-0.009114</td>\n",
       "      <td>-0.003827</td>\n",
       "      <td>0.003622</td>\n",
       "      <td>-0.011909</td>\n",
       "      <td>-0.013903</td>\n",
       "      <td>-0.011909</td>\n",
       "    </tr>\n",
       "    <tr>\n",
       "      <th>2022-04-11</th>\n",
       "      <td>-0.016009</td>\n",
       "      <td>-0.021868</td>\n",
       "      <td>-0.017872</td>\n",
       "      <td>-0.025516</td>\n",
       "      <td>-0.057857</td>\n",
       "      <td>-0.025516</td>\n",
       "    </tr>\n",
       "  </tbody>\n",
       "</table>\n",
       "<p>1258 rows × 6 columns</p>\n",
       "</div>"
      ],
      "text/plain": [
       "                High       Low      Open     Close    Volume  Adj Close\n",
       "Date                                                                   \n",
       "2017-04-13  0.001618  0.000284  0.002189 -0.005289 -0.124182  -0.005289\n",
       "2017-04-17 -0.003512 -0.001276 -0.003030  0.005530 -0.069618   0.005530\n",
       "2017-04-18  0.001128  0.001704 -0.000495 -0.004442 -0.113653  -0.004442\n",
       "2017-04-19 -0.000282 -0.004677  0.003324 -0.003683  0.179003  -0.003683\n",
       "2017-04-20  0.006479  0.005055 -0.004652  0.012511  0.345745   0.012511\n",
       "...              ...       ...       ...       ...       ...        ...\n",
       "2022-04-05 -0.001064 -0.000115  0.016784 -0.018942 -0.040103  -0.018942\n",
       "2022-04-06 -0.026192 -0.024596 -0.028958 -0.018451  0.213305  -0.018451\n",
       "2022-04-07 -0.001555 -0.001646 -0.006962  0.001804 -0.128725   0.001804\n",
       "2022-04-08 -0.009114 -0.003827  0.003622 -0.011909 -0.013903  -0.011909\n",
       "2022-04-11 -0.016009 -0.021868 -0.017872 -0.025516 -0.057857  -0.025516\n",
       "\n",
       "[1258 rows x 6 columns]"
      ]
     },
     "execution_count": 9,
     "metadata": {},
     "output_type": "execute_result"
    }
   ],
   "source": [
    "apple_pchange"
   ]
  },
  {
   "cell_type": "code",
   "execution_count": 13,
   "metadata": {},
   "outputs": [],
   "source": [
    "#train test split: no shuffle!\n",
    "y = np.where(y2>0, 1, 0)\n",
    "X_train, X_test, y_train, y_test = train_test_split(X, y, shuffle = False)\n",
    "\n",
    "#make a classification problem\n",
    "# using pct change in high low open and volume to predict whether it\n",
    "# was a postitive or negative"
   ]
  },
  {
   "cell_type": "markdown",
   "metadata": {},
   "source": [
    "### Scaling\n",
    "------\n",
    "\n",
    "Per usual we need to scale our data for the network."
   ]
  },
  {
   "cell_type": "code",
   "execution_count": 14,
   "metadata": {},
   "outputs": [],
   "source": [
    "from sklearn.preprocessing import StandardScaler"
   ]
  },
  {
   "cell_type": "code",
   "execution_count": 15,
   "metadata": {},
   "outputs": [],
   "source": [
    "#instantiate\n",
    "scaler = StandardScaler()\n"
   ]
  },
  {
   "cell_type": "code",
   "execution_count": 16,
   "metadata": {},
   "outputs": [],
   "source": [
    "#fit and transform\n",
    "x_train = scaler.fit_transform(X_train)\n",
    "x_test = scaler.transform(X_test)"
   ]
  },
  {
   "cell_type": "markdown",
   "metadata": {},
   "source": [
    "### `TimeSeriesGenerator`\n",
    "-------\n",
    "This creates stacks of sequenced data of which we specify the length of the sequences desired."
   ]
  },
  {
   "cell_type": "code",
   "execution_count": 20,
   "metadata": {},
   "outputs": [
    {
     "name": "stdout",
     "output_type": "stream",
     "text": [
      "Successfully installed absl-py-1.0.0 astunparse-1.6.3 cachetools-5.0.0 flatbuffers-2.0 gast-0.5.3 google-auth-2.6.3 google-auth-oauthlib-0.4.6 google-pasta-0.2.0 grpcio-1.44.0 keras-2.8.0 keras-preprocessing-1.1.2 libclang-13.0.0 markdown-3.3.6 oauthlib-3.2.0 opt-einsum-3.3.0 protobuf-3.20.0 pyasn1-0.4.8 pyasn1-modules-0.2.8 requests-oauthlib-1.3.1 rsa-4.8 tensorboard-2.8.0 tensorboard-data-server-0.6.1 tensorboard-plugin-wit-1.8.1 tensorflow-2.8.0 tensorflow-io-gcs-filesystem-0.24.0 termcolor-1.1.0 tf-estimator-nightly-2.8.0.dev2021122109\n",
      "Requirement already satisfied: keras in /Users/hannah.westberg/opt/anaconda3/lib/python3.9/site-packages (2.8.0)\n"
     ]
    }
   ],
   "source": [
    "!pip install tensorflow\n",
    "!pip install keras"
   ]
  },
  {
   "cell_type": "code",
   "execution_count": 22,
   "metadata": {},
   "outputs": [],
   "source": [
    "# to structure the data we use the time series generator\n",
    "# this creates little time stacks that we will feed the data into\n",
    "from keras.preprocessing.sequence import TimeseriesGenerator"
   ]
  },
  {
   "cell_type": "code",
   "execution_count": 25,
   "metadata": {},
   "outputs": [],
   "source": [
    "train_sequences = TimeseriesGenerator(x_train, y_train, length =3)"
   ]
  },
  {
   "cell_type": "code",
   "execution_count": 27,
   "metadata": {},
   "outputs": [
    {
     "data": {
      "text/plain": [
       "[(array([[[ 0.00551738, -0.06866389,  0.03054953, -0.46991446],\n",
       "          [-0.29432972, -0.15389036, -0.22933031, -0.32844843],\n",
       "          [-0.02315059,  0.00891814, -0.10308813, -0.4426157 ]],\n",
       "  \n",
       "         [[-0.29432972, -0.15389036, -0.22933031, -0.32844843],\n",
       "          [-0.02315059,  0.00891814, -0.10308813, -0.4426157 ],\n",
       "          [-0.10552064, -0.33970516,  0.08703411,  0.31614895]],\n",
       "  \n",
       "         [[-0.02315059,  0.00891814, -0.10308813, -0.4426157 ],\n",
       "          [-0.10552064, -0.33970516,  0.08703411,  0.31614895],\n",
       "          [ 0.2896385 ,  0.1920264 , -0.31007663,  0.74845672]],\n",
       "  \n",
       "         ...,\n",
       "  \n",
       "         [[-0.46641156,  0.14479878, -0.10716923,  0.06597923],\n",
       "          [ 0.05615435, -0.09118257,  0.04285537, -0.26764953],\n",
       "          [-0.12249001,  0.15440238,  0.04255567, -0.10468266]],\n",
       "  \n",
       "         [[ 0.05615435, -0.09118257,  0.04285537, -0.26764953],\n",
       "          [-0.12249001,  0.15440238,  0.04255567, -0.10468266],\n",
       "          [ 0.92180353,  0.3489701 ,  0.29323829,  1.07409531]],\n",
       "  \n",
       "         [[-0.12249001,  0.15440238,  0.04255567, -0.10468266],\n",
       "          [ 0.92180353,  0.3489701 ,  0.29323829,  1.07409531],\n",
       "          [ 0.2287673 ,  0.46339706,  0.5143732 , -0.69872172]]]),\n",
       "  array([0, 1, 0, 1, 1, 0, 1, 0, 1, 1, 0, 0, 1, 1, 1, 0, 1, 1, 0, 0, 0, 1,\n",
       "         1, 1, 0, 0, 1, 0, 1, 0, 1, 1, 0, 1, 1, 0, 0, 0, 1, 0, 0, 0, 1, 0,\n",
       "         1, 0, 1, 0, 0, 1, 0, 1, 0, 1, 0, 1, 1, 1, 1, 1, 1, 1, 1, 1, 0, 0,\n",
       "         1, 1, 1, 0, 0, 0, 1, 1, 0, 1, 1, 1, 1, 0, 1, 1, 1, 0, 0, 0, 0, 1,\n",
       "         1, 0, 1, 1, 1, 1, 1, 1, 0, 0, 0, 0, 1, 0, 0, 0, 1, 0, 1, 0, 0, 0,\n",
       "         0, 1, 1, 0, 1, 0, 1, 0, 1, 0, 1, 1, 1, 0, 1, 1, 1, 0])),\n",
       " (array([[[ 0.92180353,  0.3489701 ,  0.29323829,  1.07409531],\n",
       "          [ 0.2287673 ,  0.46339706,  0.5143732 , -0.69872172],\n",
       "          [-0.14719424,  0.04279233,  0.12098306, -0.50594163]],\n",
       "  \n",
       "         [[ 0.2287673 ,  0.46339706,  0.5143732 , -0.69872172],\n",
       "          [-0.14719424,  0.04279233,  0.12098306, -0.50594163],\n",
       "          [-1.40933162, -1.65200899, -1.2175506 ,  4.00213237]],\n",
       "  \n",
       "         [[-0.14719424,  0.04279233,  0.12098306, -0.50594163],\n",
       "          [-1.40933162, -1.65200899, -1.2175506 ,  4.00213237],\n",
       "          [ 0.16025365,  0.24712686, -0.12292617, -1.28100253]],\n",
       "  \n",
       "         ...,\n",
       "  \n",
       "         [[ 0.82326217,  0.40958978,  0.33687578,  0.45605339],\n",
       "          [-0.12825986,  0.06139589,  0.29393917, -0.71811788],\n",
       "          [-1.21024731, -1.38764374, -1.21255672,  1.60773548]],\n",
       "  \n",
       "         [[-0.12825986,  0.06139589,  0.29393917, -0.71811788],\n",
       "          [-1.21024731, -1.38764374, -1.21255672,  1.60773548],\n",
       "          [-1.47878859, -2.3719609 , -0.98395531,  2.13737852]],\n",
       "  \n",
       "         [[-1.21024731, -1.38764374, -1.21255672,  1.60773548],\n",
       "          [-1.47878859, -2.3719609 , -0.98395531,  2.13737852],\n",
       "          [-1.55701647, -0.52671232, -1.17876648, -1.29504658]]]),\n",
       "  array([0, 1, 0, 1, 0, 1, 1, 1, 1, 0, 1, 1, 1, 1, 1, 0, 0, 0, 0, 0, 1, 0,\n",
       "         0, 1, 1, 1, 0, 0, 0, 1, 0, 0, 0, 0, 1, 1, 1, 0, 1, 0, 1, 1, 0, 0,\n",
       "         1, 0, 0, 1, 1, 0, 1, 0, 1, 1, 0, 0, 0, 1, 1, 0, 1, 1, 0, 0, 1, 0,\n",
       "         0, 1, 0, 0, 1, 1, 0, 0, 1, 0, 0, 1, 1, 1, 1, 1, 0, 0, 0, 1, 1, 1,\n",
       "         0, 0, 0, 1, 1, 0, 0, 1, 1, 1, 0, 0, 1, 0, 0, 0, 0, 0, 0, 1, 0, 0,\n",
       "         1, 0, 1, 1, 1, 0, 1, 1, 0, 1, 1, 1, 1, 0, 0, 0, 0, 0])),\n",
       " (array([[[-1.47878859, -2.3719609 , -0.98395531,  2.13737852],\n",
       "          [-1.55701647, -0.52671232, -1.17876648, -1.29504658],\n",
       "          [-0.29566689, -1.03974976, -0.42466428, -0.34842514]],\n",
       "  \n",
       "         [[-1.55701647, -0.52671232, -1.17876648, -1.29504658],\n",
       "          [-0.29566689, -1.03974976, -0.42466428, -0.34842514],\n",
       "          [-0.40885698,  0.31910744, -0.99511718, -0.55656043]],\n",
       "  \n",
       "         [[-0.29566689, -1.03974976, -0.42466428, -0.34842514],\n",
       "          [-0.40885698,  0.31910744, -0.99511718, -0.55656043],\n",
       "          [ 0.02047616,  0.23877669,  0.38081613, -0.18623459]],\n",
       "  \n",
       "         ...,\n",
       "  \n",
       "         [[-0.18080898,  0.56613034,  0.68798488, -0.70751312],\n",
       "          [-0.85042613, -1.66338004, -1.07293629,  0.95049769],\n",
       "          [ 0.31526117,  1.05213568, -0.0327471 , -0.10836905]],\n",
       "  \n",
       "         [[-0.85042613, -1.66338004, -1.07293629,  0.95049769],\n",
       "          [ 0.31526117,  1.05213568, -0.0327471 , -0.10836905],\n",
       "          [ 0.46571083,  0.29526345,  0.31656651, -0.48393079]],\n",
       "  \n",
       "         [[ 0.31526117,  1.05213568, -0.0327471 , -0.10836905],\n",
       "          [ 0.46571083,  0.29526345,  0.31656651, -0.48393079],\n",
       "          [-0.11784916, -1.1422278 , -0.97555167,  0.75034667]]]),\n",
       "  array([1, 1, 0, 1, 1, 1, 1, 1, 1, 1, 1, 1, 0, 0, 0, 1, 0, 0, 1, 0, 1, 0,\n",
       "         1, 0, 0, 0, 1, 1, 1, 1, 0, 0, 0, 1, 0, 1, 0, 0, 0, 1, 0, 0, 0, 1,\n",
       "         0, 1, 0, 1, 0, 1, 1, 1, 0, 0, 1, 1, 0, 1, 0, 1, 0, 1, 1, 1, 0, 0,\n",
       "         0, 1, 1, 1, 1, 1, 0, 1, 1, 0, 1, 1, 1, 1, 1, 0, 0, 1, 1, 1, 1, 1,\n",
       "         1, 1, 1, 1, 0, 0, 0, 0, 1, 0, 1, 0, 0, 1, 1, 1, 0, 1, 1, 0, 1, 1,\n",
       "         1, 1, 1, 0, 0, 0, 1, 0, 0, 1, 0, 1, 0, 0, 1, 1, 1, 0])),\n",
       " (array([[[ 4.65710833e-01,  2.95263451e-01,  3.16566509e-01,\n",
       "           -4.83930785e-01],\n",
       "          [-1.17849163e-01, -1.14222780e+00, -9.75551672e-01,\n",
       "            7.50346669e-01],\n",
       "          [ 1.67522001e-01, -1.24881619e-01,  1.48335955e+00,\n",
       "           -3.64897211e-03]],\n",
       "  \n",
       "         [[-1.17849163e-01, -1.14222780e+00, -9.75551672e-01,\n",
       "            7.50346669e-01],\n",
       "          [ 1.67522001e-01, -1.24881619e-01,  1.48335955e+00,\n",
       "           -3.64897211e-03],\n",
       "          [-8.31992666e-01,  4.78636248e-01, -1.17225138e+00,\n",
       "           -8.49230414e-01]],\n",
       "  \n",
       "         [[ 1.67522001e-01, -1.24881619e-01,  1.48335955e+00,\n",
       "           -3.64897211e-03],\n",
       "          [-8.31992666e-01,  4.78636248e-01, -1.17225138e+00,\n",
       "           -8.49230414e-01],\n",
       "          [-4.03263731e-01, -1.11258710e+00, -4.92413304e-01,\n",
       "            1.36329611e+00]],\n",
       "  \n",
       "         ...,\n",
       "  \n",
       "         [[ 1.16326364e-01,  7.59877698e-01,  6.35180212e-01,\n",
       "           -7.90746608e-01],\n",
       "          [-2.90930484e-01, -5.93442110e-01, -2.05718836e-01,\n",
       "            2.44737576e-04],\n",
       "          [-8.65567977e-01, -8.83232469e-01, -5.43075975e-01,\n",
       "           -1.33143296e-01]],\n",
       "  \n",
       "         [[-2.90930484e-01, -5.93442110e-01, -2.05718836e-01,\n",
       "            2.44737576e-04],\n",
       "          [-8.65567977e-01, -8.83232469e-01, -5.43075975e-01,\n",
       "           -1.33143296e-01],\n",
       "          [ 1.87514558e-01,  3.86174017e-01, -1.99956966e-01,\n",
       "            3.46366076e-01]],\n",
       "  \n",
       "         [[-8.65567977e-01, -8.83232469e-01, -5.43075975e-01,\n",
       "           -1.33143296e-01],\n",
       "          [ 1.87514558e-01,  3.86174017e-01, -1.99956966e-01,\n",
       "            3.46366076e-01],\n",
       "          [-8.18400142e-01, -1.35717469e+00, -4.04874643e-01,\n",
       "            2.69291470e+00]]]),\n",
       "  array([1, 0, 0, 1, 1, 1, 0, 0, 1, 1, 0, 0, 0, 0, 0, 1, 1, 0, 0, 0, 0, 1,\n",
       "         0, 1, 0, 0, 1, 0, 0, 0, 1, 0, 1, 1, 0, 0, 1, 0, 0, 0, 0, 1, 0, 1,\n",
       "         1, 1, 0, 1, 0, 1, 1, 1, 0, 0, 1, 1, 1, 1, 0, 1, 0, 1, 0, 0, 1, 1,\n",
       "         1, 1, 1, 1, 0, 1, 0, 1, 0, 1, 0, 1, 1, 0, 1, 1, 1, 1, 0, 1, 1, 0,\n",
       "         0, 0, 1, 1, 1, 1, 1, 1, 1, 0, 1, 1, 0, 0, 0, 1, 1, 1, 1, 1, 1, 1,\n",
       "         1, 1, 0, 1, 0, 0, 1, 1, 1, 1, 1, 1, 0, 0, 0, 1, 0, 1])),\n",
       " (array([[[ 0.18751456,  0.38617402, -0.19995697,  0.34636608],\n",
       "          [-0.81840014, -1.35717469, -0.40487464,  2.6929147 ],\n",
       "          [ 3.33356023,  2.69271538,  1.59383971,  0.87120834]],\n",
       "  \n",
       "         [[-0.81840014, -1.35717469, -0.40487464,  2.6929147 ],\n",
       "          [ 3.33356023,  2.69271538,  1.59383971,  0.87120834],\n",
       "          [-0.81119398, -0.37139888, -0.08794724, -1.46098409]],\n",
       "  \n",
       "         [[ 3.33356023,  2.69271538,  1.59383971,  0.87120834],\n",
       "          [-0.81119398, -0.37139888, -0.08794724, -1.46098409],\n",
       "          [-0.31170952,  0.46708985,  0.17069077, -1.0477078 ]],\n",
       "  \n",
       "         ...,\n",
       "  \n",
       "         [[ 0.28581273,  0.04946527,  0.41719149, -0.37202619],\n",
       "          [ 0.37176896,  0.15759356, -0.35336336,  0.00931345],\n",
       "          [ 0.50794152,  0.77962638,  0.79385142,  0.66699143]],\n",
       "  \n",
       "         [[ 0.37176896,  0.15759356, -0.35336336,  0.00931345],\n",
       "          [ 0.50794152,  0.77962638,  0.79385142,  0.66699143],\n",
       "          [ 0.02819269, -1.00316025,  0.23346933,  1.09417243]],\n",
       "  \n",
       "         [[ 0.50794152,  0.77962638,  0.79385142,  0.66699143],\n",
       "          [ 0.02819269, -1.00316025,  0.23346933,  1.09417243],\n",
       "          [-1.13054605, -0.39048299, -0.92040966, -0.48043332]]]),\n",
       "  array([0, 1, 0, 0, 1, 0, 0, 0, 1, 1, 0, 0, 0, 1, 0, 0, 0, 0, 0, 1, 0, 0,\n",
       "         1, 1, 1, 1, 1, 1, 0, 0, 0, 1, 1, 0, 1, 0, 0, 0, 1, 0, 0, 1, 1, 1,\n",
       "         0, 0, 1, 1, 0, 1, 1, 0, 0, 1, 0, 1, 1, 0, 0, 1, 1, 0, 1, 0, 0, 0,\n",
       "         1, 1, 1, 0, 0, 1, 0, 0, 1, 1, 1, 1, 0, 0, 1, 0, 1, 1, 0, 0, 1, 1,\n",
       "         0, 1, 1, 1, 0, 0, 1, 1, 1, 0, 0, 1, 0, 1, 0, 0, 1, 1, 0, 1, 1, 1,\n",
       "         0, 1, 1, 1, 0, 0, 0, 1, 1, 1, 0, 1, 1, 1, 1, 0, 0, 1])),\n",
       " (array([[[ 0.02819269, -1.00316025,  0.23346933,  1.09417243],\n",
       "          [-1.13054605, -0.39048299, -0.92040966, -0.48043332],\n",
       "          [ 0.83310721, -0.97885645,  0.42604953,  0.15687084]],\n",
       "  \n",
       "         [[-1.13054605, -0.39048299, -0.92040966, -0.48043332],\n",
       "          [ 0.83310721, -0.97885645,  0.42604953,  0.15687084],\n",
       "          [ 1.49673829,  2.65610099,  0.38473441,  0.07493268]],\n",
       "  \n",
       "         [[ 0.83310721, -0.97885645,  0.42604953,  0.15687084],\n",
       "          [ 1.49673829,  2.65610099,  0.38473441,  0.07493268],\n",
       "          [ 0.34944896,  1.27973342,  1.47589658, -0.96891367]],\n",
       "  \n",
       "         ...,\n",
       "  \n",
       "         [[ 0.69621733,  1.03327745, -0.13958142,  0.43713833],\n",
       "          [ 0.89162224,  0.77416388,  0.83611934,  0.71671144],\n",
       "          [ 0.79804467, -0.55785081, -0.71552608,  0.66715444]],\n",
       "  \n",
       "         [[ 0.89162224,  0.77416388,  0.83611934,  0.71671144],\n",
       "          [ 0.79804467, -0.55785081, -0.71552608,  0.66715444],\n",
       "          [-1.12711981,  0.00566658,  0.42946025, -1.30141836]],\n",
       "  \n",
       "         [[ 0.79804467, -0.55785081, -0.71552608,  0.66715444],\n",
       "          [-1.12711981,  0.00566658,  0.42946025, -1.30141836],\n",
       "          [ 1.3658139 ,  1.46908642,  0.93572045,  0.12735966]]]),\n",
       "  array([1, 1, 0, 1, 1, 1, 1, 0, 1, 0, 1, 1, 0, 0, 0, 0, 1, 0, 1, 0, 0, 0,\n",
       "         1, 1, 1, 0, 1, 1, 1, 1, 1, 1, 0, 1, 0, 1, 1, 1, 0, 1, 1, 1, 0, 1,\n",
       "         0, 1, 1, 1, 1, 0, 0, 1, 1, 0, 1, 1, 0, 0, 1, 1, 0, 0, 0, 1, 1, 1,\n",
       "         0, 1, 0, 1, 0, 1, 0, 1, 0, 0, 0, 0, 1, 0, 0, 1, 0, 1, 0, 0, 0, 1,\n",
       "         0, 0, 1, 0, 1, 0, 0, 0, 0, 1, 0, 1, 0, 1, 0, 0, 1, 0, 1, 0, 1, 1,\n",
       "         1, 1, 0, 1, 0, 0, 0, 1, 0, 1, 1, 0, 1, 1, 0, 1, 1, 1])),\n",
       " (array([[[-1.12711981,  0.00566658,  0.42946025, -1.30141836],\n",
       "          [ 1.3658139 ,  1.46908642,  0.93572045,  0.12735966],\n",
       "          [ 0.34592572,  0.73407831,  0.83278992, -0.2430162 ]],\n",
       "  \n",
       "         [[ 1.3658139 ,  1.46908642,  0.93572045,  0.12735966],\n",
       "          [ 0.34592572,  0.73407831,  0.83278992, -0.2430162 ],\n",
       "          [ 0.282964  ,  0.48253075,  0.37892355, -0.64192675]],\n",
       "  \n",
       "         [[ 0.34592572,  0.73407831,  0.83278992, -0.2430162 ],\n",
       "          [ 0.282964  ,  0.48253075,  0.37892355, -0.64192675],\n",
       "          [ 0.90310566,  0.33558933,  0.31893017,  0.27112739]],\n",
       "  \n",
       "         ...,\n",
       "  \n",
       "         [[ 0.67051227,  0.45677331, -1.2383029 , -0.10847741],\n",
       "          [-2.55850748, -2.26566303, -0.6589196 ,  0.63526053],\n",
       "          [-0.77280016, -0.28704352, -0.95269202, -1.06643107]],\n",
       "  \n",
       "         [[-2.55850748, -2.26566303, -0.6589196 ,  0.63526053],\n",
       "          [-0.77280016, -0.28704352, -0.95269202, -1.06643107],\n",
       "          [ 0.33870957,  0.63364476,  0.17253232, -0.46959087]],\n",
       "  \n",
       "         [[-0.77280016, -0.28704352, -0.95269202, -1.06643107],\n",
       "          [ 0.33870957,  0.63364476,  0.17253232, -0.46959087],\n",
       "          [ 2.06047903,  1.7348174 ,  1.95568917,  0.58947513]]]),\n",
       "  array([1, 1, 1, 0, 0, 1, 0, 1, 0, 1, 0, 1, 0, 1, 1, 0, 1, 1, 1, 0, 1, 1,\n",
       "         1, 1, 0, 1, 1, 1, 0, 1, 0, 1, 1, 0, 1, 0, 1, 1, 0, 0, 1, 0, 1, 1,\n",
       "         1, 0, 1, 1, 0, 0, 1, 0, 1, 0, 0, 1, 0, 1, 1, 1, 1, 1, 1, 1, 0, 1,\n",
       "         0, 1, 1, 0, 0, 1, 1, 1, 1, 1, 0, 1, 0, 0, 1, 1, 0, 0, 1, 0, 1, 0,\n",
       "         0, 1, 1, 0, 0, 0, 1, 1, 0, 1, 1, 1, 0, 1, 1, 0, 1, 0, 1, 0, 1, 1,\n",
       "         0, 1, 0, 0, 0, 1, 0, 0, 0, 1, 1, 0, 1, 0, 0, 1, 1, 1])),\n",
       " (array([[[ 0.33870957,  0.63364476,  0.17253232, -0.46959087],\n",
       "          [ 2.06047903,  1.7348174 ,  1.95568917,  0.58947513],\n",
       "          [ 1.94884063,  2.11387556,  1.58357623, -0.37017356]],\n",
       "  \n",
       "         [[ 2.06047903,  1.7348174 ,  1.95568917,  0.58947513],\n",
       "          [ 1.94884063,  2.11387556,  1.58357623, -0.37017356],\n",
       "          [-0.29429686, -0.43010624,  0.07773652, -0.39266384]],\n",
       "  \n",
       "         [[ 1.94884063,  2.11387556,  1.58357623, -0.37017356],\n",
       "          [-0.29429686, -0.43010624,  0.07773652, -0.39266384],\n",
       "          [ 1.2790636 , -0.12179968,  0.83892778,  0.75942485]],\n",
       "  \n",
       "         [[-0.29429686, -0.43010624,  0.07773652, -0.39266384],\n",
       "          [ 1.2790636 , -0.12179968,  0.83892778,  0.75942485],\n",
       "          [-2.19733504, -0.98807992, -2.12381892, -0.42467548]],\n",
       "  \n",
       "         [[ 1.2790636 , -0.12179968,  0.83892778,  0.75942485],\n",
       "          [-2.19733504, -0.98807992, -2.12381892, -0.42467548],\n",
       "          [ 0.92498427,  1.02165135,  0.62822989, -0.63124237]],\n",
       "  \n",
       "         [[-2.19733504, -0.98807992, -2.12381892, -0.42467548],\n",
       "          [ 0.92498427,  1.02165135,  0.62822989, -0.63124237],\n",
       "          [ 0.35068261,  0.91525188,  0.95399254, -0.35880736]],\n",
       "  \n",
       "         [[ 0.92498427,  1.02165135,  0.62822989, -0.63124237],\n",
       "          [ 0.35068261,  0.91525188,  0.95399254, -0.35880736],\n",
       "          [-0.50612578, -0.40671111, -0.15337993, -0.69031086]],\n",
       "  \n",
       "         [[ 0.35068261,  0.91525188,  0.95399254, -0.35880736],\n",
       "          [-0.50612578, -0.40671111, -0.15337993, -0.69031086],\n",
       "          [ 0.55568028,  0.04561915, -0.29523099,  0.15717433]],\n",
       "  \n",
       "         [[-0.50612578, -0.40671111, -0.15337993, -0.69031086],\n",
       "          [ 0.55568028,  0.04561915, -0.29523099,  0.15717433],\n",
       "          [-0.24365871,  0.29039342,  0.18532407, -0.62882364]],\n",
       "  \n",
       "         [[ 0.55568028,  0.04561915, -0.29523099,  0.15717433],\n",
       "          [-0.24365871,  0.29039342,  0.18532407, -0.62882364],\n",
       "          [-0.50079693, -0.52506512, -0.46995591, -0.07634938]],\n",
       "  \n",
       "         [[-0.24365871,  0.29039342,  0.18532407, -0.62882364],\n",
       "          [-0.50079693, -0.52506512, -0.46995591, -0.07634938],\n",
       "          [-0.45981482, -0.63514537, -0.50664251, -0.2229939 ]],\n",
       "  \n",
       "         [[-0.50079693, -0.52506512, -0.46995591, -0.07634938],\n",
       "          [-0.45981482, -0.63514537, -0.50664251, -0.2229939 ],\n",
       "          [-0.23143703,  0.1403439 ,  0.3661476 , -0.16574588]],\n",
       "  \n",
       "         [[-0.45981482, -0.63514537, -0.50664251, -0.2229939 ],\n",
       "          [-0.23143703,  0.1403439 ,  0.3661476 , -0.16574588],\n",
       "          [-0.65502424, -1.73313395, -0.6911926 ,  1.76668542]],\n",
       "  \n",
       "         [[-0.23143703,  0.1403439 ,  0.3661476 , -0.16574588],\n",
       "          [-0.65502424, -1.73313395, -0.6911926 ,  1.76668542],\n",
       "          [-0.9686749 , -0.64132282, -1.46791675, -0.43333952]],\n",
       "  \n",
       "         [[-0.65502424, -1.73313395, -0.6911926 ,  1.76668542],\n",
       "          [-0.9686749 , -0.64132282, -1.46791675, -0.43333952],\n",
       "          [ 0.3650308 ,  1.16779393,  0.63840428, -0.99890326]],\n",
       "  \n",
       "         [[-0.9686749 , -0.64132282, -1.46791675, -0.43333952],\n",
       "          [ 0.3650308 ,  1.16779393,  0.63840428, -0.99890326],\n",
       "          [ 0.28142316,  0.41393998,  0.36106696, -1.15818945]],\n",
       "  \n",
       "         [[ 0.3650308 ,  1.16779393,  0.63840428, -0.99890326],\n",
       "          [ 0.28142316,  0.41393998,  0.36106696, -1.15818945],\n",
       "          [ 1.64225536,  0.1931912 ,  0.09239913,  6.66641321]],\n",
       "  \n",
       "         [[ 0.28142316,  0.41393998,  0.36106696, -1.15818945],\n",
       "          [ 1.64225536,  0.1931912 ,  0.09239913,  6.66641321],\n",
       "          [ 1.11891916,  1.41255471,  1.64127127, -0.78585918]],\n",
       "  \n",
       "         [[ 1.64225536,  0.1931912 ,  0.09239913,  6.66641321],\n",
       "          [ 1.11891916,  1.41255471,  1.64127127, -0.78585918],\n",
       "          [-0.13640293,  0.31645579,  0.33712008, -0.9339875 ]],\n",
       "  \n",
       "         [[ 1.11891916,  1.41255471,  1.64127127, -0.78585918],\n",
       "          [-0.13640293,  0.31645579,  0.33712008, -0.9339875 ],\n",
       "          [ 0.10519047,  0.51239371,  0.53363074, -0.44031545]],\n",
       "  \n",
       "         [[-0.13640293,  0.31645579,  0.33712008, -0.9339875 ],\n",
       "          [ 0.10519047,  0.51239371,  0.53363074, -0.44031545],\n",
       "          [-0.52350752, -0.39263603, -0.44930913, -0.17116907]],\n",
       "  \n",
       "         [[ 0.10519047,  0.51239371,  0.53363074, -0.44031545],\n",
       "          [-0.52350752, -0.39263603, -0.44930913, -0.17116907],\n",
       "          [ 0.7244858 ,  0.24404109, -0.19623302,  0.13204258]],\n",
       "  \n",
       "         [[-0.52350752, -0.39263603, -0.44930913, -0.17116907],\n",
       "          [ 0.7244858 ,  0.24404109, -0.19623302,  0.13204258],\n",
       "          [ 0.10332278,  0.29123832,  0.76015206, -0.28209626]],\n",
       "  \n",
       "         [[ 0.7244858 ,  0.24404109, -0.19623302,  0.13204258],\n",
       "          [ 0.10332278,  0.29123832,  0.76015206, -0.28209626],\n",
       "          [ 0.36459303, -1.01183376, -0.01440178,  0.88828842]],\n",
       "  \n",
       "         [[ 0.10332278,  0.29123832,  0.76015206, -0.28209626],\n",
       "          [ 0.36459303, -1.01183376, -0.01440178,  0.88828842],\n",
       "          [-1.05436219, -0.46796342, -1.68978199, -0.90886536]],\n",
       "  \n",
       "         [[ 0.36459303, -1.01183376, -0.01440178,  0.88828842],\n",
       "          [-1.05436219, -0.46796342, -1.68978199, -0.90886536],\n",
       "          [-0.61285028,  0.09772424,  0.7190299 ,  0.0314891 ]],\n",
       "  \n",
       "         [[-1.05436219, -0.46796342, -1.68978199, -0.90886536],\n",
       "          [-0.61285028,  0.09772424,  0.7190299 ,  0.0314891 ],\n",
       "          [ 0.19186236,  0.36451497, -0.00931901, -0.37922566]],\n",
       "  \n",
       "         [[-0.61285028,  0.09772424,  0.7190299 ,  0.0314891 ],\n",
       "          [ 0.19186236,  0.36451497, -0.00931901, -0.37922566],\n",
       "          [ 2.0670459 ,  1.08009447,  0.62820471,  2.4078902 ]],\n",
       "  \n",
       "         [[ 0.19186236,  0.36451497, -0.00931901, -0.37922566],\n",
       "          [ 2.0670459 ,  1.08009447,  0.62820471,  2.4078902 ],\n",
       "          [ 0.12572995,  0.98538092,  1.15090999, -1.12134001]],\n",
       "  \n",
       "         [[ 2.0670459 ,  1.08009447,  0.62820471,  2.4078902 ],\n",
       "          [ 0.12572995,  0.98538092,  1.15090999, -1.12134001],\n",
       "          [ 0.46190017,  0.55473628,  0.50382501, -0.24955756]],\n",
       "  \n",
       "         [[ 0.12572995,  0.98538092,  1.15090999, -1.12134001],\n",
       "          [ 0.46190017,  0.55473628,  0.50382501, -0.24955756],\n",
       "          [-0.30558247, -0.90342855, -0.05527414,  2.54974792]],\n",
       "  \n",
       "         [[ 0.46190017,  0.55473628,  0.50382501, -0.24955756],\n",
       "          [-0.30558247, -0.90342855, -0.05527414,  2.54974792],\n",
       "          [-0.44675012, -1.24080542, -1.59968558, -1.10791078]],\n",
       "  \n",
       "         [[-0.30558247, -0.90342855, -0.05527414,  2.54974792],\n",
       "          [-0.44675012, -1.24080542, -1.59968558, -1.10791078],\n",
       "          [ 2.68980498,  2.65974798,  2.54611775,  0.87100346]],\n",
       "  \n",
       "         [[-0.44675012, -1.24080542, -1.59968558, -1.10791078],\n",
       "          [ 2.68980498,  2.65974798,  2.54611775,  0.87100346],\n",
       "          [-0.95012411,  0.39202195,  0.12962349, -1.38640333]],\n",
       "  \n",
       "         [[ 2.68980498,  2.65974798,  2.54611775,  0.87100346],\n",
       "          [-0.95012411,  0.39202195,  0.12962349, -1.38640333],\n",
       "          [ 0.36556391,  0.04952146, -0.39492382, -1.12637001]],\n",
       "  \n",
       "         [[-0.95012411,  0.39202195,  0.12962349, -1.38640333],\n",
       "          [ 0.36556391,  0.04952146, -0.39492382, -1.12637001],\n",
       "          [ 1.61026647,  0.92017806,  0.93389873,  3.13507823]],\n",
       "  \n",
       "         [[ 0.36556391,  0.04952146, -0.39492382, -1.12637001],\n",
       "          [ 1.61026647,  0.92017806,  0.93389873,  3.13507823],\n",
       "          [ 0.52805518,  0.2554875 ,  1.43025475, -0.21957237]],\n",
       "  \n",
       "         [[ 1.61026647,  0.92017806,  0.93389873,  3.13507823],\n",
       "          [ 0.52805518,  0.2554875 ,  1.43025475, -0.21957237],\n",
       "          [-1.26828612, -0.46645598, -0.96932362, -0.67474922]],\n",
       "  \n",
       "         [[ 0.52805518,  0.2554875 ,  1.43025475, -0.21957237],\n",
       "          [-1.26828612, -0.46645598, -0.96932362, -0.67474922],\n",
       "          [-0.62634329, -0.77221786, -0.62932455, -0.07632687]],\n",
       "  \n",
       "         [[-1.26828612, -0.46645598, -0.96932362, -0.67474922],\n",
       "          [-0.62634329, -0.77221786, -0.62932455, -0.07632687],\n",
       "          [-0.57927239, -2.14147598, -0.2864133 ,  1.00784596]],\n",
       "  \n",
       "         [[-0.62634329, -0.77221786, -0.62932455, -0.07632687],\n",
       "          [-0.57927239, -2.14147598, -0.2864133 ,  1.00784596],\n",
       "          [-0.90714995,  0.63561795, -1.80503954, -0.97363612]],\n",
       "  \n",
       "         [[-0.57927239, -2.14147598, -0.2864133 ,  1.00784596],\n",
       "          [-0.90714995,  0.63561795, -1.80503954, -0.97363612],\n",
       "          [-0.39521047, -0.95624557, -0.53043502,  1.37644633]],\n",
       "  \n",
       "         [[-0.90714995,  0.63561795, -1.80503954, -0.97363612],\n",
       "          [-0.39521047, -0.95624557, -0.53043502,  1.37644633],\n",
       "          [ 0.16963369,  0.55564955,  0.17104576, -0.90876064]],\n",
       "  \n",
       "         [[-0.39521047, -0.95624557, -0.53043502,  1.37644633],\n",
       "          [ 0.16963369,  0.55564955,  0.17104576, -0.90876064],\n",
       "          [ 0.35499885,  0.92853916,  1.50030528, -0.25252991]]]),\n",
       "  array([0, 0, 0, 1, 0, 1, 1, 0, 0, 1, 0, 0, 1, 1, 1, 1, 1, 1, 0, 0, 1, 1,\n",
       "         0, 1, 0, 0, 1, 0, 1, 0, 1, 1, 0, 1, 1, 0, 0, 0, 0, 1, 0, 1, 1, 0]))]"
      ]
     },
     "execution_count": 27,
     "metadata": {},
     "output_type": "execute_result"
    }
   ],
   "source": [
    "list(train_sequences)\n",
    "# we're getting these three day chunks\n",
    "# we'll use the previous 3 days to predict the current 3 days"
   ]
  },
  {
   "cell_type": "code",
   "execution_count": 28,
   "metadata": {},
   "outputs": [],
   "source": [
    "test_sequences = TimeseriesGenerator(x_test, y_test, length =3)"
   ]
  },
  {
   "cell_type": "markdown",
   "metadata": {},
   "source": [
    "### Model with `SimpleRNN`\n",
    "--------\n",
    "\n",
    "- 1 `SimpleRNN` layer\n",
    "- 1 hidden `Dense` layer"
   ]
  },
  {
   "cell_type": "code",
   "execution_count": 29,
   "metadata": {},
   "outputs": [],
   "source": [
    "from keras.models import Sequential\n",
    "from keras.layers import SimpleRNN, LSTM, GRU, Dense"
   ]
  },
  {
   "cell_type": "code",
   "execution_count": 35,
   "metadata": {},
   "outputs": [],
   "source": [
    "#build the network\n",
    "rnn_model = Sequential()\n",
    "# we have stacks of 3 features with 4 columns\n",
    "# the 8 is the number of nodes\n",
    "rnn_model.add(SimpleRNN(8, input_shape = (3, 4)))\n",
    "# the results of this layer ^ will be fed into this next layer\n",
    "rnn_model.add(Dense(20, activation = 'relu'))\n",
    "rnn_model.add(Dense(1, activation = 'sigmoid'))\n"
   ]
  },
  {
   "cell_type": "code",
   "execution_count": 36,
   "metadata": {},
   "outputs": [],
   "source": [
    "#compilation\n",
    "rnn_model.compile(loss = 'bce', metrics = ['acc'])"
   ]
  },
  {
   "cell_type": "code",
   "execution_count": 37,
   "metadata": {},
   "outputs": [
    {
     "name": "stdout",
     "output_type": "stream",
     "text": [
      "Epoch 1/30\n",
      "8/8 [==============================] - 1s 32ms/step - loss: 0.7045 - acc: 0.5479 - val_loss: 0.6985 - val_acc: 0.5256\n",
      "Epoch 2/30\n",
      "8/8 [==============================] - 0s 7ms/step - loss: 0.6985 - acc: 0.5489 - val_loss: 0.6952 - val_acc: 0.5321\n",
      "Epoch 3/30\n",
      "8/8 [==============================] - 0s 7ms/step - loss: 0.6957 - acc: 0.5426 - val_loss: 0.6935 - val_acc: 0.5321\n",
      "Epoch 4/30\n",
      "8/8 [==============================] - 0s 7ms/step - loss: 0.6941 - acc: 0.5383 - val_loss: 0.6926 - val_acc: 0.5256\n",
      "Epoch 5/30\n",
      "8/8 [==============================] - 0s 6ms/step - loss: 0.6928 - acc: 0.5404 - val_loss: 0.6920 - val_acc: 0.5385\n",
      "Epoch 6/30\n",
      "8/8 [==============================] - 0s 8ms/step - loss: 0.6919 - acc: 0.5383 - val_loss: 0.6917 - val_acc: 0.5321\n",
      "Epoch 7/30\n",
      "8/8 [==============================] - 0s 7ms/step - loss: 0.6913 - acc: 0.5351 - val_loss: 0.6917 - val_acc: 0.5321\n",
      "Epoch 8/30\n",
      "8/8 [==============================] - 0s 8ms/step - loss: 0.6908 - acc: 0.5372 - val_loss: 0.6918 - val_acc: 0.5256\n",
      "Epoch 9/30\n",
      "8/8 [==============================] - 0s 8ms/step - loss: 0.6904 - acc: 0.5340 - val_loss: 0.6921 - val_acc: 0.5224\n",
      "Epoch 10/30\n",
      "8/8 [==============================] - 0s 6ms/step - loss: 0.6900 - acc: 0.5319 - val_loss: 0.6922 - val_acc: 0.5192\n",
      "Epoch 11/30\n",
      "8/8 [==============================] - 0s 6ms/step - loss: 0.6896 - acc: 0.5383 - val_loss: 0.6925 - val_acc: 0.5256\n",
      "Epoch 12/30\n",
      "8/8 [==============================] - 0s 7ms/step - loss: 0.6894 - acc: 0.5351 - val_loss: 0.6928 - val_acc: 0.5256\n",
      "Epoch 13/30\n",
      "8/8 [==============================] - 0s 7ms/step - loss: 0.6890 - acc: 0.5404 - val_loss: 0.6931 - val_acc: 0.5224\n",
      "Epoch 14/30\n",
      "8/8 [==============================] - 0s 7ms/step - loss: 0.6886 - acc: 0.5404 - val_loss: 0.6934 - val_acc: 0.5224\n",
      "Epoch 15/30\n",
      "8/8 [==============================] - 0s 7ms/step - loss: 0.6884 - acc: 0.5415 - val_loss: 0.6937 - val_acc: 0.5224\n",
      "Epoch 16/30\n",
      "8/8 [==============================] - 0s 7ms/step - loss: 0.6881 - acc: 0.5457 - val_loss: 0.6940 - val_acc: 0.5256\n",
      "Epoch 17/30\n",
      "8/8 [==============================] - 0s 7ms/step - loss: 0.6878 - acc: 0.5479 - val_loss: 0.6942 - val_acc: 0.5224\n",
      "Epoch 18/30\n",
      "8/8 [==============================] - 0s 7ms/step - loss: 0.6877 - acc: 0.5436 - val_loss: 0.6943 - val_acc: 0.5224\n",
      "Epoch 19/30\n",
      "8/8 [==============================] - 0s 7ms/step - loss: 0.6875 - acc: 0.5457 - val_loss: 0.6945 - val_acc: 0.5224\n",
      "Epoch 20/30\n",
      "8/8 [==============================] - 0s 7ms/step - loss: 0.6871 - acc: 0.5489 - val_loss: 0.6949 - val_acc: 0.5160\n",
      "Epoch 21/30\n",
      "8/8 [==============================] - 0s 7ms/step - loss: 0.6870 - acc: 0.5489 - val_loss: 0.6950 - val_acc: 0.5128\n",
      "Epoch 22/30\n",
      "8/8 [==============================] - 0s 7ms/step - loss: 0.6870 - acc: 0.5447 - val_loss: 0.6951 - val_acc: 0.5128\n",
      "Epoch 23/30\n",
      "8/8 [==============================] - 0s 7ms/step - loss: 0.6868 - acc: 0.5489 - val_loss: 0.6950 - val_acc: 0.5064\n",
      "Epoch 24/30\n",
      "8/8 [==============================] - 0s 6ms/step - loss: 0.6865 - acc: 0.5500 - val_loss: 0.6952 - val_acc: 0.5032\n",
      "Epoch 25/30\n",
      "8/8 [==============================] - 0s 6ms/step - loss: 0.6861 - acc: 0.5511 - val_loss: 0.6955 - val_acc: 0.5032\n",
      "Epoch 26/30\n",
      "8/8 [==============================] - 0s 7ms/step - loss: 0.6860 - acc: 0.5511 - val_loss: 0.6956 - val_acc: 0.5064\n",
      "Epoch 27/30\n",
      "8/8 [==============================] - 0s 10ms/step - loss: 0.6858 - acc: 0.5511 - val_loss: 0.6957 - val_acc: 0.5032\n",
      "Epoch 28/30\n",
      "8/8 [==============================] - 0s 8ms/step - loss: 0.6858 - acc: 0.5500 - val_loss: 0.6958 - val_acc: 0.5064\n",
      "Epoch 29/30\n",
      "8/8 [==============================] - 0s 7ms/step - loss: 0.6857 - acc: 0.5479 - val_loss: 0.6958 - val_acc: 0.5064\n",
      "Epoch 30/30\n",
      "8/8 [==============================] - 0s 7ms/step - loss: 0.6854 - acc: 0.5500 - val_loss: 0.6958 - val_acc: 0.5064\n"
     ]
    }
   ],
   "source": [
    "#fit it\n",
    "history = rnn_model.fit(train_sequences, validation_data = test_sequences,\n",
    "                        epochs = 30)"
   ]
  },
  {
   "cell_type": "code",
   "execution_count": null,
   "metadata": {},
   "outputs": [],
   "source": [
    "#loss?\n"
   ]
  },
  {
   "cell_type": "code",
   "execution_count": null,
   "metadata": {},
   "outputs": [],
   "source": []
  },
  {
   "cell_type": "markdown",
   "metadata": {},
   "source": [
    "### The `LSTM` and `GRU` layers"
   ]
  },
  {
   "cell_type": "code",
   "execution_count": null,
   "metadata": {},
   "outputs": [],
   "source": [
    "#network with LSTM\n",
    "model2 = Sequential()\n",
    "model2.add(LSTM(16))\n",
    "model2.add(Dense(50, activation = 'relu'))\n",
    "model2.add(Dense(1, activation = 'sigmoid'))"
   ]
  },
  {
   "cell_type": "code",
   "execution_count": null,
   "metadata": {},
   "outputs": [],
   "source": [
    "#compile\n",
    "model2.compile(loss = 'bce', metrics = ['accuracy'])"
   ]
  },
  {
   "cell_type": "code",
   "execution_count": null,
   "metadata": {},
   "outputs": [],
   "source": [
    "#fit\n"
   ]
  },
  {
   "cell_type": "code",
   "execution_count": null,
   "metadata": {},
   "outputs": [],
   "source": [
    "#examine the loss\n",
    "plt.plot(history.history['loss'], label = 'Train')\n",
    "plt.plot(history.history['val_loss'], label = 'Val')\n",
    "plt.legend();"
   ]
  },
  {
   "cell_type": "code",
   "execution_count": null,
   "metadata": {},
   "outputs": [],
   "source": [
    "plt.plot(history.history['accuracy'], label = 'Train')\n",
    "plt.plot(history.history['val_accuracy'], label = 'Val')\n",
    "plt.legend();"
   ]
  },
  {
   "cell_type": "code",
   "execution_count": null,
   "metadata": {},
   "outputs": [],
   "source": [
    "#GRU layer\n",
    "model3 = Sequential()\n",
    "model3.add(GRU(16))\n",
    "model3.add(Dense(50, activation = 'relu'))\n",
    "model3.add(Dense(1, activation = 'sigmoid'))"
   ]
  },
  {
   "cell_type": "code",
   "execution_count": null,
   "metadata": {},
   "outputs": [],
   "source": [
    "#compile\n",
    "model3.compile(loss = 'bce', metrics = ['accuracy'])"
   ]
  },
  {
   "cell_type": "code",
   "execution_count": null,
   "metadata": {},
   "outputs": [],
   "source": [
    "#train_sequences.targets"
   ]
  },
  {
   "cell_type": "code",
   "execution_count": null,
   "metadata": {},
   "outputs": [],
   "source": [
    "#fit\n"
   ]
  },
  {
   "cell_type": "code",
   "execution_count": null,
   "metadata": {},
   "outputs": [],
   "source": [
    "#examine the loss\n"
   ]
  },
  {
   "cell_type": "code",
   "execution_count": null,
   "metadata": {},
   "outputs": [],
   "source": [
    "#stacking layers\n",
    "model4 = Sequential()\n",
    "model4.add(GRU(32, return_sequences = True))\n",
    "# model4.add(GRU(16, return_sequences = True))\n",
    "# model4.add(GRU(16, return_sequences = True))\n",
    "model4.add(GRU(16))\n",
    "model4.add(Dense(100, activation = 'relu'))\n",
    "model4.add(Dense(1, activation = 'sigmoid'))\n",
    "model4.compile(loss = 'bce', metrics = ['accuracy'])\n",
    "history = model4.fit(train_sequences, validation_data = test_sequences, epochs = 10)"
   ]
  },
  {
   "cell_type": "markdown",
   "metadata": {},
   "source": [
    "### Practice\n",
    "\n",
    "Use pandas datareader to access stock data for a ticker of interest.  Build and compare different sequential models using `GRU` layers.   "
   ]
  },
  {
   "cell_type": "code",
   "execution_count": null,
   "metadata": {},
   "outputs": [],
   "source": []
  },
  {
   "cell_type": "code",
   "execution_count": null,
   "metadata": {},
   "outputs": [],
   "source": []
  },
  {
   "cell_type": "code",
   "execution_count": null,
   "metadata": {},
   "outputs": [],
   "source": []
  },
  {
   "cell_type": "code",
   "execution_count": null,
   "metadata": {},
   "outputs": [],
   "source": []
  },
  {
   "cell_type": "code",
   "execution_count": null,
   "metadata": {},
   "outputs": [],
   "source": []
  },
  {
   "cell_type": "markdown",
   "metadata": {},
   "source": [
    "### Sequential Models for Text\n",
    "-------\n",
    "\n",
    "Now, we use the Keras `Tokenizer` to preprocess our spam data and feed it through different architectures of sequential network models."
   ]
  },
  {
   "cell_type": "code",
   "execution_count": null,
   "metadata": {},
   "outputs": [],
   "source": [
    "import pandas as pd\n",
    "import numpy as np"
   ]
  },
  {
   "cell_type": "code",
   "execution_count": null,
   "metadata": {},
   "outputs": [],
   "source": [
    "from keras.preprocessing.text import Tokenizer"
   ]
  },
  {
   "cell_type": "code",
   "execution_count": null,
   "metadata": {},
   "outputs": [],
   "source": [
    "spam = pd.read_csv('data/sms_spam.csv')"
   ]
  },
  {
   "cell_type": "code",
   "execution_count": null,
   "metadata": {},
   "outputs": [],
   "source": [
    "spam.head()"
   ]
  },
  {
   "cell_type": "markdown",
   "metadata": {},
   "source": [
    "### `Tokenizer`\n",
    "------\n",
    "Here, we set the limit to the number of words at 500, then fit the texts, and finally transform our text to sequences of integer values with the `.texts_to_sequences`.  To assure the same length we use the `pad_sequences` function.  "
   ]
  },
  {
   "cell_type": "code",
   "execution_count": null,
   "metadata": {},
   "outputs": [],
   "source": [
    "#create a tokenizer and specify the vocabulary\n",
    "tokenizer = Tokenizer(500)"
   ]
  },
  {
   "cell_type": "code",
   "execution_count": null,
   "metadata": {},
   "outputs": [],
   "source": [
    "#fit it on text\n",
    "tokenizer.fit_on_texts(spam['text'])"
   ]
  },
  {
   "cell_type": "code",
   "execution_count": null,
   "metadata": {},
   "outputs": [],
   "source": [
    "#generate sequences\n",
    "sequences = tokenizer.texts_to_sequences(spam['text'])"
   ]
  },
  {
   "cell_type": "code",
   "execution_count": null,
   "metadata": {},
   "outputs": [],
   "source": [
    "sequences[:3]"
   ]
  },
  {
   "cell_type": "code",
   "execution_count": null,
   "metadata": {},
   "outputs": [],
   "source": [
    "from keras.preprocessing.sequence import pad_sequences"
   ]
  },
  {
   "cell_type": "code",
   "execution_count": null,
   "metadata": {},
   "outputs": [],
   "source": [
    "#pad sequences to 100\n",
    "X = pad_sequences(sequences, maxlen = 100)"
   ]
  },
  {
   "cell_type": "code",
   "execution_count": null,
   "metadata": {},
   "outputs": [],
   "source": [
    "#take a peek\n",
    "X[0]"
   ]
  },
  {
   "cell_type": "code",
   "execution_count": null,
   "metadata": {},
   "outputs": [],
   "source": []
  },
  {
   "cell_type": "markdown",
   "metadata": {},
   "source": [
    "### Model\n",
    "-------"
   ]
  },
  {
   "cell_type": "code",
   "execution_count": null,
   "metadata": {},
   "outputs": [],
   "source": [
    "from keras.layers import Embedding"
   ]
  },
  {
   "cell_type": "code",
   "execution_count": null,
   "metadata": {},
   "outputs": [],
   "source": [
    "#sequential model\n",
    "text_model1 = Sequential()\n",
    "#embedding layer\n",
    "text_model1.add(Embedding(input_dim = tokenizer.num_words, output_dim = 64))\n",
    "#simple RNN\n",
    "text_model1.add(SimpleRNN(16))\n",
    "#dense layer\n",
    "text_model1.add(Dense(20, activation = 'relu'))\n",
    "#output\n",
    "text_model1.add(Dense(1, activation = 'sigmoid'))\n",
    "#compilation\n",
    "text_model1.compile(loss = 'bce', metrics = ['accuracy'])"
   ]
  },
  {
   "cell_type": "code",
   "execution_count": null,
   "metadata": {},
   "outputs": [],
   "source": [
    "#make y binary\n",
    "y = np.where(spam['type'] == 'ham', 0, 1)"
   ]
  },
  {
   "cell_type": "code",
   "execution_count": null,
   "metadata": {},
   "outputs": [],
   "source": [
    "#baseline?\n"
   ]
  },
  {
   "cell_type": "code",
   "execution_count": null,
   "metadata": {},
   "outputs": [],
   "source": [
    "#fit it\n"
   ]
  },
  {
   "cell_type": "code",
   "execution_count": null,
   "metadata": {},
   "outputs": [],
   "source": []
  },
  {
   "cell_type": "markdown",
   "metadata": {},
   "source": [
    "### Improving the Model\n",
    "-----\n",
    "\n",
    "- `LSTM` layers\n",
    "- `GRU` layers\n",
    "- `recurrent_dropout`\n",
    "- `dropout`\n",
    "- `Bidirectional` layers"
   ]
  },
  {
   "cell_type": "code",
   "execution_count": null,
   "metadata": {},
   "outputs": [],
   "source": [
    "# model = Sequential()\n",
    "# model.add(Embedding(input_dim = tokenizer.num_words, output_dim = 64))\n",
    "# model.add(GRU(16))\n",
    "# model.add(Dense(20, activation = 'relu'))\n",
    "# model.add(Dense(1, activation = 'sigmoid'))\n",
    "# model.compile(loss = 'bce', optimizer = 'adam', metrics = ['acc'])\n",
    "# model.fit(X, y, epochs = 10)"
   ]
  },
  {
   "cell_type": "code",
   "execution_count": null,
   "metadata": {},
   "outputs": [],
   "source": [
    "# model = Sequential()\n",
    "# model.add(Embedding(input_dim = tokenizer.num_words, output_dim = 64))\n",
    "# model.add(GRU(16, recurrent_dropout = 0.2))\n",
    "# model.add(Dense(20, activation = 'relu'))\n",
    "# model.add(Dense(1, activation = 'sigmoid'))\n",
    "# model.compile(loss = 'bce', optimizer = 'adam', metrics = ['acc'])\n",
    "# model.fit(X, y)"
   ]
  },
  {
   "cell_type": "code",
   "execution_count": null,
   "metadata": {},
   "outputs": [],
   "source": [
    "# model = Sequential()\n",
    "# model.add(Embedding(input_dim = tokenizer.num_words, output_dim = 64))\n",
    "# model.add(GRU(16, dropout = 0.2, recurrent_dropout = 0.2))\n",
    "# model.add(Dense(20, activation = 'relu'))\n",
    "# model.add(Dense(1, activation = 'sigmoid'))\n",
    "# model.compile(loss = 'bce', optimizer = 'adam', metrics = ['acc'])\n",
    "# model.fit(x_seq, y)"
   ]
  },
  {
   "cell_type": "code",
   "execution_count": null,
   "metadata": {},
   "outputs": [],
   "source": [
    "from keras.layers import Bidirectional"
   ]
  },
  {
   "cell_type": "code",
   "execution_count": null,
   "metadata": {},
   "outputs": [],
   "source": [
    "# model = Sequential()\n",
    "# model.add(Embedding(input_dim = tokenizer.num_words, output_dim = 64))\n",
    "# model.add(Bidirectional(GRU(16)))\n",
    "# model.add(Dense(20, activation = 'relu'))\n",
    "# model.add(Dense(1, activation = 'sigmoid'))\n",
    "# model.compile(loss = 'bce', optimizer = 'adam', metrics = ['acc'])\n",
    "# model.fit(x_seq, y)"
   ]
  },
  {
   "cell_type": "markdown",
   "metadata": {},
   "source": [
    "### Convolutional Networks in 1D\n",
    "--------"
   ]
  },
  {
   "cell_type": "code",
   "execution_count": null,
   "metadata": {},
   "outputs": [],
   "source": [
    "from keras.layers import Conv1D, MaxPooling1D"
   ]
  },
  {
   "cell_type": "code",
   "execution_count": null,
   "metadata": {},
   "outputs": [],
   "source": []
  },
  {
   "cell_type": "code",
   "execution_count": null,
   "metadata": {},
   "outputs": [],
   "source": []
  },
  {
   "cell_type": "code",
   "execution_count": null,
   "metadata": {},
   "outputs": [],
   "source": []
  },
  {
   "cell_type": "code",
   "execution_count": null,
   "metadata": {},
   "outputs": [],
   "source": []
  },
  {
   "cell_type": "code",
   "execution_count": null,
   "metadata": {},
   "outputs": [],
   "source": []
  }
 ],
 "metadata": {
  "kernelspec": {
   "display_name": "Python 3 (ipykernel)",
   "language": "python",
   "name": "python3"
  },
  "language_info": {
   "codemirror_mode": {
    "name": "ipython",
    "version": 3
   },
   "file_extension": ".py",
   "mimetype": "text/x-python",
   "name": "python",
   "nbconvert_exporter": "python",
   "pygments_lexer": "ipython3",
   "version": "3.9.7"
  },
  "widgets": {
   "application/vnd.jupyter.widget-state+json": {
    "state": {},
    "version_major": 2,
    "version_minor": 0
   }
  }
 },
 "nbformat": 4,
 "nbformat_minor": 4
}
