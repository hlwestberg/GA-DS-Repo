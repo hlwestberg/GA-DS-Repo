{
 "cells": [
  {
   "cell_type": "markdown",
   "metadata": {},
   "source": [
    "### Grid Search Warm Up"
   ]
  },
  {
   "cell_type": "code",
   "execution_count": 52,
   "metadata": {},
   "outputs": [],
   "source": [
    "from sklearn.datasets import load_breast_cancer\n",
    "import pandas as pd"
   ]
  },
  {
   "cell_type": "code",
   "execution_count": 74,
   "metadata": {},
   "outputs": [],
   "source": [
    "from sklearn.model_selection import train_test_split, GridSearchCV\n",
    "from sklearn.neighbors import KNeighborsClassifier, KNeighborsRegressor\n",
    "from sklearn.linear_model import LogisticRegression\n",
    "from sklearn.metrics import ConfusionMatrixDisplay #or plot_confusion_matrix\n",
    "import numpy as np"
   ]
  },
  {
   "cell_type": "code",
   "execution_count": 54,
   "metadata": {},
   "outputs": [],
   "source": [
    "cancer = load_breast_cancer()\n",
    "X = cancer.data\n",
    "y = cancer.target"
   ]
  },
  {
   "cell_type": "code",
   "execution_count": 55,
   "metadata": {},
   "outputs": [
    {
     "data": {
      "text/html": [
       "<div>\n",
       "<style scoped>\n",
       "    .dataframe tbody tr th:only-of-type {\n",
       "        vertical-align: middle;\n",
       "    }\n",
       "\n",
       "    .dataframe tbody tr th {\n",
       "        vertical-align: top;\n",
       "    }\n",
       "\n",
       "    .dataframe thead th {\n",
       "        text-align: right;\n",
       "    }\n",
       "</style>\n",
       "<table border=\"1\" class=\"dataframe\">\n",
       "  <thead>\n",
       "    <tr style=\"text-align: right;\">\n",
       "      <th></th>\n",
       "      <th>mean radius</th>\n",
       "      <th>mean texture</th>\n",
       "      <th>mean perimeter</th>\n",
       "      <th>mean area</th>\n",
       "      <th>mean smoothness</th>\n",
       "      <th>mean compactness</th>\n",
       "      <th>mean concavity</th>\n",
       "      <th>mean concave points</th>\n",
       "      <th>mean symmetry</th>\n",
       "      <th>mean fractal dimension</th>\n",
       "      <th>...</th>\n",
       "      <th>worst radius</th>\n",
       "      <th>worst texture</th>\n",
       "      <th>worst perimeter</th>\n",
       "      <th>worst area</th>\n",
       "      <th>worst smoothness</th>\n",
       "      <th>worst compactness</th>\n",
       "      <th>worst concavity</th>\n",
       "      <th>worst concave points</th>\n",
       "      <th>worst symmetry</th>\n",
       "      <th>worst fractal dimension</th>\n",
       "    </tr>\n",
       "  </thead>\n",
       "  <tbody>\n",
       "    <tr>\n",
       "      <th>0</th>\n",
       "      <td>17.99</td>\n",
       "      <td>10.38</td>\n",
       "      <td>122.80</td>\n",
       "      <td>1001.0</td>\n",
       "      <td>0.11840</td>\n",
       "      <td>0.27760</td>\n",
       "      <td>0.3001</td>\n",
       "      <td>0.14710</td>\n",
       "      <td>0.2419</td>\n",
       "      <td>0.07871</td>\n",
       "      <td>...</td>\n",
       "      <td>25.38</td>\n",
       "      <td>17.33</td>\n",
       "      <td>184.60</td>\n",
       "      <td>2019.0</td>\n",
       "      <td>0.1622</td>\n",
       "      <td>0.6656</td>\n",
       "      <td>0.7119</td>\n",
       "      <td>0.2654</td>\n",
       "      <td>0.4601</td>\n",
       "      <td>0.11890</td>\n",
       "    </tr>\n",
       "    <tr>\n",
       "      <th>1</th>\n",
       "      <td>20.57</td>\n",
       "      <td>17.77</td>\n",
       "      <td>132.90</td>\n",
       "      <td>1326.0</td>\n",
       "      <td>0.08474</td>\n",
       "      <td>0.07864</td>\n",
       "      <td>0.0869</td>\n",
       "      <td>0.07017</td>\n",
       "      <td>0.1812</td>\n",
       "      <td>0.05667</td>\n",
       "      <td>...</td>\n",
       "      <td>24.99</td>\n",
       "      <td>23.41</td>\n",
       "      <td>158.80</td>\n",
       "      <td>1956.0</td>\n",
       "      <td>0.1238</td>\n",
       "      <td>0.1866</td>\n",
       "      <td>0.2416</td>\n",
       "      <td>0.1860</td>\n",
       "      <td>0.2750</td>\n",
       "      <td>0.08902</td>\n",
       "    </tr>\n",
       "    <tr>\n",
       "      <th>2</th>\n",
       "      <td>19.69</td>\n",
       "      <td>21.25</td>\n",
       "      <td>130.00</td>\n",
       "      <td>1203.0</td>\n",
       "      <td>0.10960</td>\n",
       "      <td>0.15990</td>\n",
       "      <td>0.1974</td>\n",
       "      <td>0.12790</td>\n",
       "      <td>0.2069</td>\n",
       "      <td>0.05999</td>\n",
       "      <td>...</td>\n",
       "      <td>23.57</td>\n",
       "      <td>25.53</td>\n",
       "      <td>152.50</td>\n",
       "      <td>1709.0</td>\n",
       "      <td>0.1444</td>\n",
       "      <td>0.4245</td>\n",
       "      <td>0.4504</td>\n",
       "      <td>0.2430</td>\n",
       "      <td>0.3613</td>\n",
       "      <td>0.08758</td>\n",
       "    </tr>\n",
       "    <tr>\n",
       "      <th>3</th>\n",
       "      <td>11.42</td>\n",
       "      <td>20.38</td>\n",
       "      <td>77.58</td>\n",
       "      <td>386.1</td>\n",
       "      <td>0.14250</td>\n",
       "      <td>0.28390</td>\n",
       "      <td>0.2414</td>\n",
       "      <td>0.10520</td>\n",
       "      <td>0.2597</td>\n",
       "      <td>0.09744</td>\n",
       "      <td>...</td>\n",
       "      <td>14.91</td>\n",
       "      <td>26.50</td>\n",
       "      <td>98.87</td>\n",
       "      <td>567.7</td>\n",
       "      <td>0.2098</td>\n",
       "      <td>0.8663</td>\n",
       "      <td>0.6869</td>\n",
       "      <td>0.2575</td>\n",
       "      <td>0.6638</td>\n",
       "      <td>0.17300</td>\n",
       "    </tr>\n",
       "    <tr>\n",
       "      <th>4</th>\n",
       "      <td>20.29</td>\n",
       "      <td>14.34</td>\n",
       "      <td>135.10</td>\n",
       "      <td>1297.0</td>\n",
       "      <td>0.10030</td>\n",
       "      <td>0.13280</td>\n",
       "      <td>0.1980</td>\n",
       "      <td>0.10430</td>\n",
       "      <td>0.1809</td>\n",
       "      <td>0.05883</td>\n",
       "      <td>...</td>\n",
       "      <td>22.54</td>\n",
       "      <td>16.67</td>\n",
       "      <td>152.20</td>\n",
       "      <td>1575.0</td>\n",
       "      <td>0.1374</td>\n",
       "      <td>0.2050</td>\n",
       "      <td>0.4000</td>\n",
       "      <td>0.1625</td>\n",
       "      <td>0.2364</td>\n",
       "      <td>0.07678</td>\n",
       "    </tr>\n",
       "  </tbody>\n",
       "</table>\n",
       "<p>5 rows × 30 columns</p>\n",
       "</div>"
      ],
      "text/plain": [
       "   mean radius  mean texture  mean perimeter  mean area  mean smoothness  \\\n",
       "0        17.99         10.38          122.80     1001.0          0.11840   \n",
       "1        20.57         17.77          132.90     1326.0          0.08474   \n",
       "2        19.69         21.25          130.00     1203.0          0.10960   \n",
       "3        11.42         20.38           77.58      386.1          0.14250   \n",
       "4        20.29         14.34          135.10     1297.0          0.10030   \n",
       "\n",
       "   mean compactness  mean concavity  mean concave points  mean symmetry  \\\n",
       "0           0.27760          0.3001              0.14710         0.2419   \n",
       "1           0.07864          0.0869              0.07017         0.1812   \n",
       "2           0.15990          0.1974              0.12790         0.2069   \n",
       "3           0.28390          0.2414              0.10520         0.2597   \n",
       "4           0.13280          0.1980              0.10430         0.1809   \n",
       "\n",
       "   mean fractal dimension  ...  worst radius  worst texture  worst perimeter  \\\n",
       "0                 0.07871  ...         25.38          17.33           184.60   \n",
       "1                 0.05667  ...         24.99          23.41           158.80   \n",
       "2                 0.05999  ...         23.57          25.53           152.50   \n",
       "3                 0.09744  ...         14.91          26.50            98.87   \n",
       "4                 0.05883  ...         22.54          16.67           152.20   \n",
       "\n",
       "   worst area  worst smoothness  worst compactness  worst concavity  \\\n",
       "0      2019.0            0.1622             0.6656           0.7119   \n",
       "1      1956.0            0.1238             0.1866           0.2416   \n",
       "2      1709.0            0.1444             0.4245           0.4504   \n",
       "3       567.7            0.2098             0.8663           0.6869   \n",
       "4      1575.0            0.1374             0.2050           0.4000   \n",
       "\n",
       "   worst concave points  worst symmetry  worst fractal dimension  \n",
       "0                0.2654          0.4601                  0.11890  \n",
       "1                0.1860          0.2750                  0.08902  \n",
       "2                0.2430          0.3613                  0.08758  \n",
       "3                0.2575          0.6638                  0.17300  \n",
       "4                0.1625          0.2364                  0.07678  \n",
       "\n",
       "[5 rows x 30 columns]"
      ]
     },
     "execution_count": 55,
     "metadata": {},
     "output_type": "execute_result"
    }
   ],
   "source": [
    "pd.DataFrame(X, columns = cancer.feature_names).head()"
   ]
  },
  {
   "cell_type": "code",
   "execution_count": 56,
   "metadata": {},
   "outputs": [],
   "source": [
    "#train/test split\n",
    "\n",
    "X_train, X_test, y_train, y_test = train_test_split(X, y, stratify = y,\n",
    "                                                   random_state = 42)\n",
    "# when we build the model and grid search, we only grid search on \n",
    "# the train, then we eval on the test set. \n",
    "\n",
    "\n"
   ]
  },
  {
   "cell_type": "code",
   "execution_count": 57,
   "metadata": {},
   "outputs": [],
   "source": [
    "# because we're using KNN, we need to scale data\n",
    "from sklearn.preprocessing import StandardScaler"
   ]
  },
  {
   "cell_type": "code",
   "execution_count": 58,
   "metadata": {},
   "outputs": [],
   "source": [
    "#scale the data\n",
    "# fit and transform train- model is learning scaling params \n",
    "# on the train set and then applying them to the test data, only transform the test data. \n",
    "sscaler = StandardScaler()\n",
    "X_train_scaled = sscaler.fit_transform(X_train)\n",
    "X_test_scaled = sscaler.transform(X_test)"
   ]
  },
  {
   "cell_type": "code",
   "execution_count": 59,
   "metadata": {},
   "outputs": [],
   "source": [
    "#knn classifier\n",
    "knn = KNeighborsClassifier()"
   ]
  },
  {
   "cell_type": "code",
   "execution_count": 60,
   "metadata": {},
   "outputs": [],
   "source": [
    "# parameter grid for n_neighbors\n",
    "# two things we need for grid searh 1) estimator 2) dictionary for \n",
    "## params we want to try and the values we want to try\n",
    "## we're setting the params ahead of time to pass through the grid\n",
    "# name is parameter- you can see these in the classifier documentation\n",
    "# the lowerst number of neighbors you can have ia one, the highest is the \n",
    "### number of dat pointsin the training set\n",
    "## but since we will use cross val, which will use the test, we'll just\n",
    "## look at the length of the test data\n",
    "params = {'n_neighbors': range(1, len(X_test) - 1, 2)}\n"
   ]
  },
  {
   "cell_type": "code",
   "execution_count": 61,
   "metadata": {},
   "outputs": [
    {
     "data": {
      "text/plain": [
       "143"
      ]
     },
     "execution_count": 61,
     "metadata": {},
     "output_type": "execute_result"
    }
   ],
   "source": [
    "X_test.shape[0]\n",
    "# so 143 records"
   ]
  },
  {
   "cell_type": "code",
   "execution_count": 62,
   "metadata": {},
   "outputs": [
    {
     "data": {
      "text/plain": [
       "GridSearchCV(cv=5, estimator=KNeighborsClassifier(),\n",
       "             param_grid={'n_neighbors': range(1, 142, 2)})"
      ]
     },
     "execution_count": 62,
     "metadata": {},
     "output_type": "execute_result"
    }
   ],
   "source": [
    "# fit on train\n",
    "# so now we pass the estimator and the parameters to the grid.\n",
    "# the grid is alos using cross validaton\n",
    "# this is going to try up 141 neighbors \n",
    "# takes in estimator and parameter grid\n",
    "\n",
    "grid = GridSearchCV(knn, param_grid=params, cv = 5)\n",
    "\n",
    "# finally you fit on the train daa. \n",
    "# it will return the betst. oran\n",
    "grid.fit(X_train_scaled, y_train)"
   ]
  },
  {
   "cell_type": "code",
   "execution_count": 63,
   "metadata": {},
   "outputs": [
    {
     "data": {
      "text/plain": [
       "array([1.799e+01, 1.038e+01, 1.228e+02, 1.001e+03, 1.184e-01, 2.776e-01,\n",
       "       3.001e-01, 1.471e-01, 2.419e-01, 7.871e-02, 1.095e+00, 9.053e-01,\n",
       "       8.589e+00, 1.534e+02, 6.399e-03, 4.904e-02, 5.373e-02, 1.587e-02,\n",
       "       3.003e-02, 6.193e-03, 2.538e+01, 1.733e+01, 1.846e+02, 2.019e+03,\n",
       "       1.622e-01, 6.656e-01, 7.119e-01, 2.654e-01, 4.601e-01, 1.189e-01])"
      ]
     },
     "execution_count": 63,
     "metadata": {},
     "output_type": "execute_result"
    }
   ],
   "source": [
    "# first row of data- first data point\n",
    "X[0,:]"
   ]
  },
  {
   "cell_type": "code",
   "execution_count": 71,
   "metadata": {},
   "outputs": [
    {
     "data": {
      "text/plain": [
       "array([2.057e+01, 1.777e+01, 1.329e+02, 1.326e+03, 8.474e-02, 7.864e-02,\n",
       "       8.690e-02, 7.017e-02, 1.812e-01, 5.667e-02, 5.435e-01, 7.339e-01,\n",
       "       3.398e+00, 7.408e+01, 5.225e-03, 1.308e-02, 1.860e-02, 1.340e-02,\n",
       "       1.389e-02, 3.532e-03, 2.499e+01, 2.341e+01, 1.588e+02, 1.956e+03,\n",
       "       1.238e-01, 1.866e-01, 2.416e-01, 1.860e-01, 2.750e-01, 8.902e-02])"
      ]
     },
     "execution_count": 71,
     "metadata": {},
     "output_type": "execute_result"
    }
   ],
   "source": [
    "#second row of data- second data point\n",
    "X[1, :]"
   ]
  },
  {
   "cell_type": "code",
   "execution_count": 78,
   "metadata": {},
   "outputs": [
    {
     "data": {
      "text/plain": [
       "164.77294312780845"
      ]
     },
     "execution_count": 78,
     "metadata": {},
     "output_type": "execute_result"
    }
   ],
   "source": [
    "# find the distance between these two vectors/data points\n",
    "np.linalg.norm(X[:, 0] - X[:, 1])"
   ]
  },
  {
   "cell_type": "code",
   "execution_count": 80,
   "metadata": {},
   "outputs": [],
   "source": [
    "# this is what we want to classify\n",
    "test_point = X[:,0].reshape(-1,1)"
   ]
  },
  {
   "cell_type": "code",
   "execution_count": 82,
   "metadata": {},
   "outputs": [
    {
     "data": {
      "text/plain": [
       "array([    0.        ,   164.77294313,  1921.74888919, 17394.73347739,\n",
       "         345.05332792,   344.72956675,   344.93430657,   345.98144059,\n",
       "         343.08242686,   345.85643031,   336.87455817,   319.81604847,\n",
       "         275.82055311,  1199.7314217 ,   347.13785507,   346.68624542,\n",
       "         346.5256923 ,   347.01057944,   346.82654719,   347.20978095,\n",
       "          64.60148169,   311.62173998,  2335.38712911, 24681.23609874,\n",
       "         344.21859246,   341.05397683,   340.39102309,   344.36428369,\n",
       "         340.53064357,   345.35384367])"
      ]
     },
     "execution_count": 82,
     "metadata": {},
     "output_type": "execute_result"
    }
   ],
   "source": [
    "# we find the distance between this point and every other point\n",
    "# we're findnig how far away the point is from all of the others using the norm\n",
    "# and then the ones it's closest to, we use those to figure out what to classify the test point as \n",
    "# we can't draw a scatter point for this bc there are too many dimensions\n",
    "np.apply_along_axis(np.linalg.norm, 0, test_point - X)"
   ]
  },
  {
   "cell_type": "code",
   "execution_count": 68,
   "metadata": {},
   "outputs": [
    {
     "data": {
      "text/plain": [
       "{'n_neighbors': 7}"
      ]
     },
     "execution_count": 68,
     "metadata": {},
     "output_type": "execute_result"
    }
   ],
   "source": [
    "grid.best_params_\n",
    "# this indicates the best number of classifiers is 7\n",
    "# this searches through 7 \n"
   ]
  },
  {
   "cell_type": "code",
   "execution_count": 67,
   "metadata": {},
   "outputs": [
    {
     "name": "stdout",
     "output_type": "stream",
     "text": [
      "0.24.2\n"
     ]
    }
   ],
   "source": [
    "import sklearn\n",
    "print(sklearn.__version__)"
   ]
  },
  {
   "cell_type": "code",
   "execution_count": 89,
   "metadata": {},
   "outputs": [
    {
     "ename": "ImportError",
     "evalue": "cannot import name 'plot_confusion_matrix' from 'sklearn' (/Users/hannah.westberg/opt/anaconda3/lib/python3.9/site-packages/sklearn/__init__.py)",
     "output_type": "error",
     "traceback": [
      "\u001b[0;31m---------------------------------------------------------------------------\u001b[0m",
      "\u001b[0;31mImportError\u001b[0m                               Traceback (most recent call last)",
      "\u001b[0;32m/var/folders/kz/klxfgxt54zg3ld3hw3501lf80000gp/T/ipykernel_45750/2613372739.py\u001b[0m in \u001b[0;36m<module>\u001b[0;34m\u001b[0m\n\u001b[0;32m----> 1\u001b[0;31m \u001b[0;32mfrom\u001b[0m \u001b[0msklearn\u001b[0m \u001b[0;32mimport\u001b[0m \u001b[0mplot_confusion_matrix\u001b[0m\u001b[0;34m\u001b[0m\u001b[0;34m\u001b[0m\u001b[0m\n\u001b[0m\u001b[1;32m      2\u001b[0m \u001b[0;31m# plt confusion matrix\u001b[0m\u001b[0;34m\u001b[0m\u001b[0;34m\u001b[0m\u001b[0m\n\u001b[1;32m      3\u001b[0m \u001b[0mConfusionMatrixDisplay\u001b[0m\u001b[0;34m.\u001b[0m\u001b[0mfrom_estimator\u001b[0m\u001b[0;34m(\u001b[0m\u001b[0mgrid\u001b[0m\u001b[0;34m,\u001b[0m \u001b[0mX_test_scaled\u001b[0m\u001b[0;34m,\u001b[0m \u001b[0my_test\u001b[0m\u001b[0;34m,\u001b[0m \u001b[0mdisplay_labels\u001b[0m\u001b[0;34m=\u001b[0m\u001b[0mcancer\u001b[0m\u001b[0;34m.\u001b[0m\u001b[0mtarget_names\u001b[0m\u001b[0;34m)\u001b[0m\u001b[0;34m\u001b[0m\u001b[0;34m\u001b[0m\u001b[0m\n\u001b[1;32m      4\u001b[0m \u001b[0;34m\u001b[0m\u001b[0m\n\u001b[1;32m      5\u001b[0m \u001b[0;34m\u001b[0m\u001b[0m\n",
      "\u001b[0;31mImportError\u001b[0m: cannot import name 'plot_confusion_matrix' from 'sklearn' (/Users/hannah.westberg/opt/anaconda3/lib/python3.9/site-packages/sklearn/__init__.py)"
     ]
    }
   ],
   "source": [
    "from sklearn import plot_confusion_matrix\n",
    "# plt confusion matrix \n",
    "ConfusionMatrixDisplay.from_estimator(grid, X_test_scaled, y_test, display_labels=cancer.target_names)\n",
    "\n",
    "\n",
    "# first row is 0, which means malignant\n",
    "# second row is 1, which is benign\n",
    "# which do we care about more? we probably care about false negatives more \n",
    "# than false positives- that would be the upper right corner (3 count)\n",
    "# we want to avoid errors like this in`b the estimator in this situation, bc it's cancer\n",
    "# this was the best knn estimator, according to the n neighbors we passed.\n",
    "# so next, let's look at logistic regression to see if it performs better!\n"
   ]
  },
  {
   "cell_type": "code",
   "execution_count": 90,
   "metadata": {},
   "outputs": [
    {
     "data": {
      "text/html": [
       "<div>\n",
       "<style scoped>\n",
       "    .dataframe tbody tr th:only-of-type {\n",
       "        vertical-align: middle;\n",
       "    }\n",
       "\n",
       "    .dataframe tbody tr th {\n",
       "        vertical-align: top;\n",
       "    }\n",
       "\n",
       "    .dataframe thead th {\n",
       "        text-align: right;\n",
       "    }\n",
       "</style>\n",
       "<table border=\"1\" class=\"dataframe\">\n",
       "  <thead>\n",
       "    <tr style=\"text-align: right;\">\n",
       "      <th></th>\n",
       "      <th>mean_fit_time</th>\n",
       "      <th>std_fit_time</th>\n",
       "      <th>mean_score_time</th>\n",
       "      <th>std_score_time</th>\n",
       "      <th>param_n_neighbors</th>\n",
       "      <th>params</th>\n",
       "      <th>split0_test_score</th>\n",
       "      <th>split1_test_score</th>\n",
       "      <th>split2_test_score</th>\n",
       "      <th>split3_test_score</th>\n",
       "      <th>split4_test_score</th>\n",
       "      <th>mean_test_score</th>\n",
       "      <th>std_test_score</th>\n",
       "      <th>rank_test_score</th>\n",
       "    </tr>\n",
       "  </thead>\n",
       "  <tbody>\n",
       "    <tr>\n",
       "      <th>0</th>\n",
       "      <td>0.000674</td>\n",
       "      <td>0.000260</td>\n",
       "      <td>0.004616</td>\n",
       "      <td>0.001535</td>\n",
       "      <td>1</td>\n",
       "      <td>{'n_neighbors': 1}</td>\n",
       "      <td>0.941860</td>\n",
       "      <td>0.941176</td>\n",
       "      <td>0.929412</td>\n",
       "      <td>0.929412</td>\n",
       "      <td>0.976471</td>\n",
       "      <td>0.943666</td>\n",
       "      <td>0.017274</td>\n",
       "      <td>21</td>\n",
       "    </tr>\n",
       "    <tr>\n",
       "      <th>1</th>\n",
       "      <td>0.000432</td>\n",
       "      <td>0.000083</td>\n",
       "      <td>0.002883</td>\n",
       "      <td>0.000279</td>\n",
       "      <td>3</td>\n",
       "      <td>{'n_neighbors': 3}</td>\n",
       "      <td>0.988372</td>\n",
       "      <td>0.964706</td>\n",
       "      <td>0.941176</td>\n",
       "      <td>0.952941</td>\n",
       "      <td>0.976471</td>\n",
       "      <td>0.964733</td>\n",
       "      <td>0.016677</td>\n",
       "      <td>3</td>\n",
       "    </tr>\n",
       "    <tr>\n",
       "      <th>2</th>\n",
       "      <td>0.000312</td>\n",
       "      <td>0.000022</td>\n",
       "      <td>0.002604</td>\n",
       "      <td>0.000187</td>\n",
       "      <td>5</td>\n",
       "      <td>{'n_neighbors': 5}</td>\n",
       "      <td>0.988372</td>\n",
       "      <td>0.964706</td>\n",
       "      <td>0.941176</td>\n",
       "      <td>0.952941</td>\n",
       "      <td>0.964706</td>\n",
       "      <td>0.962380</td>\n",
       "      <td>0.015653</td>\n",
       "      <td>5</td>\n",
       "    </tr>\n",
       "    <tr>\n",
       "      <th>3</th>\n",
       "      <td>0.000381</td>\n",
       "      <td>0.000033</td>\n",
       "      <td>0.002621</td>\n",
       "      <td>0.000193</td>\n",
       "      <td>7</td>\n",
       "      <td>{'n_neighbors': 7}</td>\n",
       "      <td>0.988372</td>\n",
       "      <td>0.964706</td>\n",
       "      <td>0.941176</td>\n",
       "      <td>0.952941</td>\n",
       "      <td>0.988235</td>\n",
       "      <td>0.967086</td>\n",
       "      <td>0.018854</td>\n",
       "      <td>1</td>\n",
       "    </tr>\n",
       "    <tr>\n",
       "      <th>4</th>\n",
       "      <td>0.000299</td>\n",
       "      <td>0.000028</td>\n",
       "      <td>0.002510</td>\n",
       "      <td>0.000398</td>\n",
       "      <td>9</td>\n",
       "      <td>{'n_neighbors': 9}</td>\n",
       "      <td>0.988372</td>\n",
       "      <td>0.964706</td>\n",
       "      <td>0.941176</td>\n",
       "      <td>0.952941</td>\n",
       "      <td>0.988235</td>\n",
       "      <td>0.967086</td>\n",
       "      <td>0.018854</td>\n",
       "      <td>1</td>\n",
       "    </tr>\n",
       "    <tr>\n",
       "      <th>...</th>\n",
       "      <td>...</td>\n",
       "      <td>...</td>\n",
       "      <td>...</td>\n",
       "      <td>...</td>\n",
       "      <td>...</td>\n",
       "      <td>...</td>\n",
       "      <td>...</td>\n",
       "      <td>...</td>\n",
       "      <td>...</td>\n",
       "      <td>...</td>\n",
       "      <td>...</td>\n",
       "      <td>...</td>\n",
       "      <td>...</td>\n",
       "      <td>...</td>\n",
       "    </tr>\n",
       "    <tr>\n",
       "      <th>66</th>\n",
       "      <td>0.000457</td>\n",
       "      <td>0.000057</td>\n",
       "      <td>0.003729</td>\n",
       "      <td>0.000466</td>\n",
       "      <td>133</td>\n",
       "      <td>{'n_neighbors': 133}</td>\n",
       "      <td>0.918605</td>\n",
       "      <td>0.894118</td>\n",
       "      <td>0.858824</td>\n",
       "      <td>0.917647</td>\n",
       "      <td>0.917647</td>\n",
       "      <td>0.901368</td>\n",
       "      <td>0.023194</td>\n",
       "      <td>67</td>\n",
       "    </tr>\n",
       "    <tr>\n",
       "      <th>67</th>\n",
       "      <td>0.000415</td>\n",
       "      <td>0.000097</td>\n",
       "      <td>0.004058</td>\n",
       "      <td>0.000287</td>\n",
       "      <td>135</td>\n",
       "      <td>{'n_neighbors': 135}</td>\n",
       "      <td>0.918605</td>\n",
       "      <td>0.894118</td>\n",
       "      <td>0.858824</td>\n",
       "      <td>0.894118</td>\n",
       "      <td>0.917647</td>\n",
       "      <td>0.896662</td>\n",
       "      <td>0.021756</td>\n",
       "      <td>68</td>\n",
       "    </tr>\n",
       "    <tr>\n",
       "      <th>68</th>\n",
       "      <td>0.000420</td>\n",
       "      <td>0.000072</td>\n",
       "      <td>0.003640</td>\n",
       "      <td>0.000368</td>\n",
       "      <td>137</td>\n",
       "      <td>{'n_neighbors': 137}</td>\n",
       "      <td>0.918605</td>\n",
       "      <td>0.894118</td>\n",
       "      <td>0.858824</td>\n",
       "      <td>0.894118</td>\n",
       "      <td>0.917647</td>\n",
       "      <td>0.896662</td>\n",
       "      <td>0.021756</td>\n",
       "      <td>68</td>\n",
       "    </tr>\n",
       "    <tr>\n",
       "      <th>69</th>\n",
       "      <td>0.000374</td>\n",
       "      <td>0.000070</td>\n",
       "      <td>0.003516</td>\n",
       "      <td>0.000127</td>\n",
       "      <td>139</td>\n",
       "      <td>{'n_neighbors': 139}</td>\n",
       "      <td>0.918605</td>\n",
       "      <td>0.894118</td>\n",
       "      <td>0.858824</td>\n",
       "      <td>0.882353</td>\n",
       "      <td>0.917647</td>\n",
       "      <td>0.894309</td>\n",
       "      <td>0.022526</td>\n",
       "      <td>70</td>\n",
       "    </tr>\n",
       "    <tr>\n",
       "      <th>70</th>\n",
       "      <td>0.000371</td>\n",
       "      <td>0.000093</td>\n",
       "      <td>0.003723</td>\n",
       "      <td>0.000528</td>\n",
       "      <td>141</td>\n",
       "      <td>{'n_neighbors': 141}</td>\n",
       "      <td>0.918605</td>\n",
       "      <td>0.894118</td>\n",
       "      <td>0.858824</td>\n",
       "      <td>0.882353</td>\n",
       "      <td>0.917647</td>\n",
       "      <td>0.894309</td>\n",
       "      <td>0.022526</td>\n",
       "      <td>70</td>\n",
       "    </tr>\n",
       "  </tbody>\n",
       "</table>\n",
       "<p>71 rows × 14 columns</p>\n",
       "</div>"
      ],
      "text/plain": [
       "    mean_fit_time  std_fit_time  mean_score_time  std_score_time  \\\n",
       "0        0.000674      0.000260         0.004616        0.001535   \n",
       "1        0.000432      0.000083         0.002883        0.000279   \n",
       "2        0.000312      0.000022         0.002604        0.000187   \n",
       "3        0.000381      0.000033         0.002621        0.000193   \n",
       "4        0.000299      0.000028         0.002510        0.000398   \n",
       "..            ...           ...              ...             ...   \n",
       "66       0.000457      0.000057         0.003729        0.000466   \n",
       "67       0.000415      0.000097         0.004058        0.000287   \n",
       "68       0.000420      0.000072         0.003640        0.000368   \n",
       "69       0.000374      0.000070         0.003516        0.000127   \n",
       "70       0.000371      0.000093         0.003723        0.000528   \n",
       "\n",
       "   param_n_neighbors                params  split0_test_score  \\\n",
       "0                  1    {'n_neighbors': 1}           0.941860   \n",
       "1                  3    {'n_neighbors': 3}           0.988372   \n",
       "2                  5    {'n_neighbors': 5}           0.988372   \n",
       "3                  7    {'n_neighbors': 7}           0.988372   \n",
       "4                  9    {'n_neighbors': 9}           0.988372   \n",
       "..               ...                   ...                ...   \n",
       "66               133  {'n_neighbors': 133}           0.918605   \n",
       "67               135  {'n_neighbors': 135}           0.918605   \n",
       "68               137  {'n_neighbors': 137}           0.918605   \n",
       "69               139  {'n_neighbors': 139}           0.918605   \n",
       "70               141  {'n_neighbors': 141}           0.918605   \n",
       "\n",
       "    split1_test_score  split2_test_score  split3_test_score  \\\n",
       "0            0.941176           0.929412           0.929412   \n",
       "1            0.964706           0.941176           0.952941   \n",
       "2            0.964706           0.941176           0.952941   \n",
       "3            0.964706           0.941176           0.952941   \n",
       "4            0.964706           0.941176           0.952941   \n",
       "..                ...                ...                ...   \n",
       "66           0.894118           0.858824           0.917647   \n",
       "67           0.894118           0.858824           0.894118   \n",
       "68           0.894118           0.858824           0.894118   \n",
       "69           0.894118           0.858824           0.882353   \n",
       "70           0.894118           0.858824           0.882353   \n",
       "\n",
       "    split4_test_score  mean_test_score  std_test_score  rank_test_score  \n",
       "0            0.976471         0.943666        0.017274               21  \n",
       "1            0.976471         0.964733        0.016677                3  \n",
       "2            0.964706         0.962380        0.015653                5  \n",
       "3            0.988235         0.967086        0.018854                1  \n",
       "4            0.988235         0.967086        0.018854                1  \n",
       "..                ...              ...             ...              ...  \n",
       "66           0.917647         0.901368        0.023194               67  \n",
       "67           0.917647         0.896662        0.021756               68  \n",
       "68           0.917647         0.896662        0.021756               68  \n",
       "69           0.917647         0.894309        0.022526               70  \n",
       "70           0.917647         0.894309        0.022526               70  \n",
       "\n",
       "[71 rows x 14 columns]"
      ]
     },
     "execution_count": 90,
     "metadata": {},
     "output_type": "execute_result"
    }
   ],
   "source": [
    "# this gives you the scores for all of the cross validations tha were run\n",
    "# so 7 nieghbors and 0 neighbors seemed to be the best. \n",
    "\n",
    "pd.DataFrame(grid.cv_results_)"
   ]
  },
  {
   "cell_type": "code",
   "execution_count": 18,
   "metadata": {},
   "outputs": [
    {
     "data": {
      "text/plain": [
       "array([1.799e+01, 1.038e+01, 1.228e+02, 1.001e+03, 1.184e-01, 2.776e-01,\n",
       "       3.001e-01, 1.471e-01, 2.419e-01, 7.871e-02, 1.095e+00, 9.053e-01,\n",
       "       8.589e+00, 1.534e+02, 6.399e-03, 4.904e-02, 5.373e-02, 1.587e-02,\n",
       "       3.003e-02, 6.193e-03, 2.538e+01, 1.733e+01, 1.846e+02, 2.019e+03,\n",
       "       1.622e-01, 6.656e-01, 7.119e-01, 2.654e-01, 4.601e-01, 1.189e-01])"
      ]
     },
     "execution_count": 18,
     "metadata": {},
     "output_type": "execute_result"
    }
   ],
   "source": [
    "X[0, :] #first row of data"
   ]
  },
  {
   "cell_type": "code",
   "execution_count": 19,
   "metadata": {},
   "outputs": [
    {
     "data": {
      "text/plain": [
       "array([2.057e+01, 1.777e+01, 1.329e+02, 1.326e+03, 8.474e-02, 7.864e-02,\n",
       "       8.690e-02, 7.017e-02, 1.812e-01, 5.667e-02, 5.435e-01, 7.339e-01,\n",
       "       3.398e+00, 7.408e+01, 5.225e-03, 1.308e-02, 1.860e-02, 1.340e-02,\n",
       "       1.389e-02, 3.532e-03, 2.499e+01, 2.341e+01, 1.588e+02, 1.956e+03,\n",
       "       1.238e-01, 1.866e-01, 2.416e-01, 1.860e-01, 2.750e-01, 8.902e-02])"
      ]
     },
     "execution_count": 19,
     "metadata": {},
     "output_type": "execute_result"
    }
   ],
   "source": [
    "X[1, :] #second row of data"
   ]
  },
  {
   "cell_type": "code",
   "execution_count": 21,
   "metadata": {},
   "outputs": [],
   "source": [
    "import numpy as np"
   ]
  },
  {
   "cell_type": "code",
   "execution_count": 22,
   "metadata": {},
   "outputs": [
    {
     "data": {
      "text/plain": [
       "164.77294312780845"
      ]
     },
     "execution_count": 22,
     "metadata": {},
     "output_type": "execute_result"
    }
   ],
   "source": [
    "np.linalg.norm(X[:, 0] - X[:, 1])"
   ]
  },
  {
   "cell_type": "code",
   "execution_count": 27,
   "metadata": {},
   "outputs": [],
   "source": [
    "test_point = X[:, 0].reshape(-1, 1)"
   ]
  },
  {
   "cell_type": "code",
   "execution_count": 29,
   "metadata": {},
   "outputs": [
    {
     "data": {
      "text/plain": [
       "array([    0.        ,   164.77294313,  1921.74888919, 17394.73347739,\n",
       "         345.05332792,   344.72956675,   344.93430657,   345.98144059,\n",
       "         343.08242686,   345.85643031,   336.87455817,   319.81604847,\n",
       "         275.82055311,  1199.7314217 ,   347.13785507,   346.68624542,\n",
       "         346.5256923 ,   347.01057944,   346.82654719,   347.20978095,\n",
       "          64.60148169,   311.62173998,  2335.38712911, 24681.23609874,\n",
       "         344.21859246,   341.05397683,   340.39102309,   344.36428369,\n",
       "         340.53064357,   345.35384367])"
      ]
     },
     "execution_count": 29,
     "metadata": {},
     "output_type": "execute_result"
    }
   ],
   "source": [
    "np.apply_along_axis(np.linalg.norm, 0, test_point - X)"
   ]
  },
  {
   "cell_type": "code",
   "execution_count": 16,
   "metadata": {},
   "outputs": [
    {
     "data": {
      "text/plain": [
       "{'n_neighbors': 7}"
      ]
     },
     "execution_count": 16,
     "metadata": {},
     "output_type": "execute_result"
    }
   ],
   "source": [
    "#examine best params\n",
    "grid.best_params_"
   ]
  },
  {
   "cell_type": "code",
   "execution_count": 35,
   "metadata": {},
   "outputs": [
    {
     "data": {
      "text/plain": [
       "<sklearn.metrics._plot.confusion_matrix.ConfusionMatrixDisplay at 0x7fcb98ae3490>"
      ]
     },
     "execution_count": 35,
     "metadata": {},
     "output_type": "execute_result"
    },
    {
     "data": {
      "image/png": "[encoded data removed]",
      "text/plain": [
       "<Figure size 432x288 with 2 Axes>"
      ]
     },
     "metadata": {
      "needs_background": "light"
     },
     "output_type": "display_data"
    }
   ],
   "source": [
    "#plot confusion matrix ---> for sklearn version < 1.0\n",
    "#from sklearn.metrics import plot_confusion_matrix\n",
    "#plot_confusion_matrix(grid, X_test, y_test)\n",
    "ConfusionMatrixDisplay.from_estimator(grid, X_test_scaled, y_test,\n",
    "                                     display_labels=cancer.target_names)"
   ]
  },
  {
   "cell_type": "code",
   "execution_count": 38,
   "metadata": {},
   "outputs": [
    {
     "data": {
      "text/html": [
       "<div>\n",
       "<style scoped>\n",
       "    .dataframe tbody tr th:only-of-type {\n",
       "        vertical-align: middle;\n",
       "    }\n",
       "\n",
       "    .dataframe tbody tr th {\n",
       "        vertical-align: top;\n",
       "    }\n",
       "\n",
       "    .dataframe thead th {\n",
       "        text-align: right;\n",
       "    }\n",
       "</style>\n",
       "<table border=\"1\" class=\"dataframe\">\n",
       "  <thead>\n",
       "    <tr style=\"text-align: right;\">\n",
       "      <th></th>\n",
       "      <th>mean_fit_time</th>\n",
       "      <th>std_fit_time</th>\n",
       "      <th>mean_score_time</th>\n",
       "      <th>std_score_time</th>\n",
       "      <th>param_n_neighbors</th>\n",
       "      <th>params</th>\n",
       "      <th>split0_test_score</th>\n",
       "      <th>split1_test_score</th>\n",
       "      <th>split2_test_score</th>\n",
       "      <th>split3_test_score</th>\n",
       "      <th>split4_test_score</th>\n",
       "      <th>mean_test_score</th>\n",
       "      <th>std_test_score</th>\n",
       "      <th>rank_test_score</th>\n",
       "    </tr>\n",
       "  </thead>\n",
       "  <tbody>\n",
       "    <tr>\n",
       "      <th>0</th>\n",
       "      <td>0.000721</td>\n",
       "      <td>0.000159</td>\n",
       "      <td>0.004471</td>\n",
       "      <td>0.000312</td>\n",
       "      <td>1</td>\n",
       "      <td>{'n_neighbors': 1}</td>\n",
       "      <td>0.941860</td>\n",
       "      <td>0.941176</td>\n",
       "      <td>0.929412</td>\n",
       "      <td>0.929412</td>\n",
       "      <td>0.976471</td>\n",
       "      <td>0.943666</td>\n",
       "      <td>0.017274</td>\n",
       "      <td>21</td>\n",
       "    </tr>\n",
       "    <tr>\n",
       "      <th>1</th>\n",
       "      <td>0.000638</td>\n",
       "      <td>0.000062</td>\n",
       "      <td>0.004829</td>\n",
       "      <td>0.000666</td>\n",
       "      <td>3</td>\n",
       "      <td>{'n_neighbors': 3}</td>\n",
       "      <td>0.988372</td>\n",
       "      <td>0.964706</td>\n",
       "      <td>0.941176</td>\n",
       "      <td>0.952941</td>\n",
       "      <td>0.976471</td>\n",
       "      <td>0.964733</td>\n",
       "      <td>0.016677</td>\n",
       "      <td>3</td>\n",
       "    </tr>\n",
       "    <tr>\n",
       "      <th>2</th>\n",
       "      <td>0.000593</td>\n",
       "      <td>0.000146</td>\n",
       "      <td>0.004249</td>\n",
       "      <td>0.000448</td>\n",
       "      <td>5</td>\n",
       "      <td>{'n_neighbors': 5}</td>\n",
       "      <td>0.988372</td>\n",
       "      <td>0.964706</td>\n",
       "      <td>0.941176</td>\n",
       "      <td>0.952941</td>\n",
       "      <td>0.964706</td>\n",
       "      <td>0.962380</td>\n",
       "      <td>0.015653</td>\n",
       "      <td>5</td>\n",
       "    </tr>\n",
       "    <tr>\n",
       "      <th>3</th>\n",
       "      <td>0.000575</td>\n",
       "      <td>0.000075</td>\n",
       "      <td>0.005074</td>\n",
       "      <td>0.001205</td>\n",
       "      <td>7</td>\n",
       "      <td>{'n_neighbors': 7}</td>\n",
       "      <td>0.988372</td>\n",
       "      <td>0.964706</td>\n",
       "      <td>0.941176</td>\n",
       "      <td>0.952941</td>\n",
       "      <td>0.988235</td>\n",
       "      <td>0.967086</td>\n",
       "      <td>0.018854</td>\n",
       "      <td>1</td>\n",
       "    </tr>\n",
       "    <tr>\n",
       "      <th>4</th>\n",
       "      <td>0.000816</td>\n",
       "      <td>0.000100</td>\n",
       "      <td>0.005530</td>\n",
       "      <td>0.000286</td>\n",
       "      <td>9</td>\n",
       "      <td>{'n_neighbors': 9}</td>\n",
       "      <td>0.988372</td>\n",
       "      <td>0.964706</td>\n",
       "      <td>0.941176</td>\n",
       "      <td>0.952941</td>\n",
       "      <td>0.988235</td>\n",
       "      <td>0.967086</td>\n",
       "      <td>0.018854</td>\n",
       "      <td>1</td>\n",
       "    </tr>\n",
       "  </tbody>\n",
       "</table>\n",
       "</div>"
      ],
      "text/plain": [
       "   mean_fit_time  std_fit_time  mean_score_time  std_score_time  \\\n",
       "0       0.000721      0.000159         0.004471        0.000312   \n",
       "1       0.000638      0.000062         0.004829        0.000666   \n",
       "2       0.000593      0.000146         0.004249        0.000448   \n",
       "3       0.000575      0.000075         0.005074        0.001205   \n",
       "4       0.000816      0.000100         0.005530        0.000286   \n",
       "\n",
       "  param_n_neighbors              params  split0_test_score  split1_test_score  \\\n",
       "0                 1  {'n_neighbors': 1}           0.941860           0.941176   \n",
       "1                 3  {'n_neighbors': 3}           0.988372           0.964706   \n",
       "2                 5  {'n_neighbors': 5}           0.988372           0.964706   \n",
       "3                 7  {'n_neighbors': 7}           0.988372           0.964706   \n",
       "4                 9  {'n_neighbors': 9}           0.988372           0.964706   \n",
       "\n",
       "   split2_test_score  split3_test_score  split4_test_score  mean_test_score  \\\n",
       "0           0.929412           0.929412           0.976471         0.943666   \n",
       "1           0.941176           0.952941           0.976471         0.964733   \n",
       "2           0.941176           0.952941           0.964706         0.962380   \n",
       "3           0.941176           0.952941           0.988235         0.967086   \n",
       "4           0.941176           0.952941           0.988235         0.967086   \n",
       "\n",
       "   std_test_score  rank_test_score  \n",
       "0        0.017274               21  \n",
       "1        0.016677                3  \n",
       "2        0.015653                5  \n",
       "3        0.018854                1  \n",
       "4        0.018854                1  "
      ]
     },
     "execution_count": 38,
     "metadata": {},
     "output_type": "execute_result"
    }
   ],
   "source": [
    "pd.DataFrame(grid.cv_results_).head()"
   ]
  },
  {
   "cell_type": "markdown",
   "metadata": {},
   "source": [
    "### Compare to `LogisticRegression`"
   ]
  },
  {
   "cell_type": "code",
   "execution_count": 100,
   "metadata": {},
   "outputs": [],
   "source": [
    "#classifier\n",
    "# going ot use a C parameter that will include more bias but help with overfitting\n",
    "lgr = LogisticRegression(max_iter=1000)\n",
    "\n"
   ]
  },
  {
   "cell_type": "code",
   "execution_count": 101,
   "metadata": {},
   "outputs": [],
   "source": [
    "#parameters\n",
    "param_grid = {'C': [0.01, 0.1, 1.0, 10.0, 100.0, 1000.0]}"
   ]
  },
  {
   "cell_type": "code",
   "execution_count": 102,
   "metadata": {},
   "outputs": [],
   "source": [
    "# built the grid\n",
    "lgr_grid = GridSearchCV(lgr, param_grid=param_grid, cv = 5)"
   ]
  },
  {
   "cell_type": "code",
   "execution_count": 103,
   "metadata": {},
   "outputs": [
    {
     "data": {
      "text/plain": [
       "GridSearchCV(cv=5, estimator=LogisticRegression(max_iter=1000),\n",
       "             param_grid={'C': [0.01, 0.1, 1.0, 10.0, 100.0, 1000.0]})"
      ]
     },
     "execution_count": 103,
     "metadata": {},
     "output_type": "execute_result"
    }
   ],
   "source": [
    "# fit the grid\n",
    "lgr_grid.fit(X_train_scaled, y_train)\n",
    "# warnings aren't errors, but we might add a max iteration in the classifier\n"
   ]
  },
  {
   "cell_type": "code",
   "execution_count": 104,
   "metadata": {},
   "outputs": [
    {
     "data": {
      "text/plain": [
       "{'C': 0.1}"
      ]
     },
     "execution_count": 104,
     "metadata": {},
     "output_type": "execute_result"
    }
   ],
   "source": [
    "# best params\n",
    "lgr_grid.best_params_\n",
    "# best result was C = .1, which is just a bit of regularization"
   ]
  },
  {
   "cell_type": "code",
   "execution_count": 105,
   "metadata": {},
   "outputs": [
    {
     "ename": "AttributeError",
     "evalue": "type object 'ConfusionMatrixDisplay' has no attribute 'from_estimator'",
     "output_type": "error",
     "traceback": [
      "\u001b[0;31m---------------------------------------------------------------------------\u001b[0m",
      "\u001b[0;31mAttributeError\u001b[0m                            Traceback (most recent call last)",
      "\u001b[0;32m/var/folders/kz/klxfgxt54zg3ld3hw3501lf80000gp/T/ipykernel_45750/2887933623.py\u001b[0m in \u001b[0;36m<module>\u001b[0;34m\u001b[0m\n\u001b[1;32m      1\u001b[0m \u001b[0;31m# confusion matrix\u001b[0m\u001b[0;34m\u001b[0m\u001b[0;34m\u001b[0m\u001b[0m\n\u001b[0;32m----> 2\u001b[0;31m \u001b[0mConfusionMatrixDisplay\u001b[0m\u001b[0;34m.\u001b[0m\u001b[0mfrom_estimator\u001b[0m\u001b[0;34m(\u001b[0m\u001b[0mlgr_grid\u001b[0m\u001b[0;34m,\u001b[0m \u001b[0mX_test_scaled\u001b[0m\u001b[0;34m,\u001b[0m \u001b[0my_test\u001b[0m\u001b[0;34m)\u001b[0m\u001b[0;34m\u001b[0m\u001b[0;34m\u001b[0m\u001b[0m\n\u001b[0m",
      "\u001b[0;31mAttributeError\u001b[0m: type object 'ConfusionMatrixDisplay' has no attribute 'from_estimator'"
     ]
    }
   ],
   "source": [
    "# confusion matrix\n",
    "ConfusionMatrixDisplay.from_estimator(lgr_grid, X_test_scaled, y_test)\n",
    "\n",
    "# we still got 3 wrong, but this gives us one less false negative\n",
    "# which is generally better than before. \n",
    "\n",
    "# the default socring metric for knn and log reg is accuracy\n",
    "# when we do grid search the default performance metric is accuracy\n",
    "# but we can change it to be something else by setting a scoring argument\n",
    "# what we care about the most here might actually be recall\n",
    "# the grid search will choose the estimator that has the best perf\n",
    "# metric that you choose. \n"
   ]
  },
  {
   "cell_type": "code",
   "execution_count": 106,
   "metadata": {},
   "outputs": [
    {
     "data": {
      "text/plain": [
       "GridSearchCV(cv=5, estimator=LogisticRegression(max_iter=1000),\n",
       "             param_grid={'C': [0.01, 0.1, 1.0, 10.0, 100.0, 1000.0]},\n",
       "             scoring='recall')"
      ]
     },
     "execution_count": 106,
     "metadata": {},
     "output_type": "execute_result"
    }
   ],
   "source": [
    "# built and fit the grid - using recall as the scoring metric\n",
    "lgr_grid = GridSearchCV(lgr, param_grid=param_grid, cv = 5, scoring='recall')\n",
    "lgr_grid.fit(X_train_scaled, y_train)\n"
   ]
  },
  {
   "cell_type": "code",
   "execution_count": null,
   "metadata": {},
   "outputs": [],
   "source": [
    "# things got worse with recall - due to funky labelling. need\n",
    "# to go back and change the labels on the data set"
   ]
  },
  {
   "cell_type": "code",
   "execution_count": null,
   "metadata": {},
   "outputs": [],
   "source": [
    "y_train = np.where(y_train ==0,1,0)\n",
    "y_test = np.where(y_test == 0,1,0)\n",
    "# now 1 will mean that you have cancer. "
   ]
  },
  {
   "cell_type": "code",
   "execution_count": 107,
   "metadata": {},
   "outputs": [
    {
     "data": {
      "text/plain": [
       "GridSearchCV(cv=5, estimator=LogisticRegression(max_iter=1000),\n",
       "             param_grid={'C': [0.01, 0.1, 1.0, 10.0, 100.0, 1000.0]},\n",
       "             scoring='recall')"
      ]
     },
     "execution_count": 107,
     "metadata": {},
     "output_type": "execute_result"
    }
   ],
   "source": [
    "lgr_grid = GridSearchCV(lgr, param_grid=param_grid, cv = 5, scoring='recall')\n",
    "lgr_grid.fit(X_train_scaled, y_train)"
   ]
  },
  {
   "cell_type": "code",
   "execution_count": 108,
   "metadata": {},
   "outputs": [
    {
     "ename": "AttributeError",
     "evalue": "type object 'ConfusionMatrixDisplay' has no attribute 'from_estimator'",
     "output_type": "error",
     "traceback": [
      "\u001b[0;31m---------------------------------------------------------------------------\u001b[0m",
      "\u001b[0;31mAttributeError\u001b[0m                            Traceback (most recent call last)",
      "\u001b[0;32m/var/folders/kz/klxfgxt54zg3ld3hw3501lf80000gp/T/ipykernel_45750/2113042544.py\u001b[0m in \u001b[0;36m<module>\u001b[0;34m\u001b[0m\n\u001b[0;32m----> 1\u001b[0;31m \u001b[0mConfusionMatrixDisplay\u001b[0m\u001b[0;34m.\u001b[0m\u001b[0mfrom_estimator\u001b[0m\u001b[0;34m(\u001b[0m\u001b[0mlgr_grid\u001b[0m\u001b[0;34m,\u001b[0m \u001b[0mX_test_scaled\u001b[0m\u001b[0;34m,\u001b[0m \u001b[0my_test\u001b[0m\u001b[0;34m)\u001b[0m\u001b[0;34m\u001b[0m\u001b[0;34m\u001b[0m\u001b[0m\n\u001b[0m",
      "\u001b[0;31mAttributeError\u001b[0m: type object 'ConfusionMatrixDisplay' has no attribute 'from_estimator'"
     ]
    }
   ],
   "source": [
    "ConfusionMatrixDisplay.from_estimator(lgr_grid, X_test_scaled, y_test)\n",
    "# this actually performs the best out of all of these!\n",
    "\n",
    "# we can optimize the grid to the preferred metric!\n"
   ]
  },
  {
   "cell_type": "code",
   "execution_count": null,
   "metadata": {},
   "outputs": [],
   "source": [
    "#plot both confusion matrices side by side -- compare strengths and weaknesses\n"
   ]
  }
 ],
 "metadata": {
  "kernelspec": {
   "display_name": "Python 3 (ipykernel)",
   "language": "python",
   "name": "python3"
  },
  "language_info": {
   "codemirror_mode": {
    "name": "ipython",
    "version": 3
   },
   "file_extension": ".py",
   "mimetype": "text/x-python",
   "name": "python",
   "nbconvert_exporter": "python",
   "pygments_lexer": "ipython3",
   "version": "3.9.7"
  }
 },
 "nbformat": 4,
 "nbformat_minor": 4
}
