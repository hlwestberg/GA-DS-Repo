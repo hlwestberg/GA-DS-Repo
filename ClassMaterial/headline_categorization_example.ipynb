{
 "cells": [
  {
   "cell_type": "code",
   "execution_count": 1,
   "id": "d96d49f2",
   "metadata": {},
   "outputs": [],
   "source": [
    "from sklearn.datasets import fetch_20newsgroups"
   ]
  },
  {
   "cell_type": "code",
   "execution_count": 2,
   "id": "f6628551",
   "metadata": {},
   "outputs": [],
   "source": [
    "news = fetch_20newsgroups(categories = ['alt.atheism', 'sci.space'])"
   ]
  },
  {
   "cell_type": "code",
   "execution_count": 3,
   "id": "e0453b8d",
   "metadata": {},
   "outputs": [],
   "source": [
    "X= news.data"
   ]
  },
  {
   "cell_type": "code",
   "execution_count": 4,
   "id": "2f51f823",
   "metadata": {},
   "outputs": [],
   "source": [
    "from sklearn.feature_extraction.text import CountVectorizer"
   ]
  },
  {
   "cell_type": "code",
   "execution_count": 6,
   "id": "6a203a12",
   "metadata": {},
   "outputs": [],
   "source": [
    "cvect = CountVectorizer(stop_words='english', max_features=100)\n",
    "\n",
    "then pass this to kmeans \n",
    "Xv = cvect.fit_transform(X)"
   ]
  },
  {
   "cell_type": "code",
   "execution_count": null,
   "id": "a1e2729f",
   "metadata": {},
   "outputs": [],
   "source": [
    "# nltk also has clustering so I can look at that as well\n",
    "# this can be good bc it has some distance metrics that work well w ith text ,  "
   ]
  },
  {
   "cell_type": "code",
   "execution_count": null,
   "id": "8362e537",
   "metadata": {},
   "outputs": [],
   "source": [
    "# - can include a stemmer in the vectorizer\n",
    "# - can include lemmetization in the vecitorizer"
   ]
  }
 ],
 "metadata": {
  "kernelspec": {
   "display_name": "Python 3 (ipykernel)",
   "language": "python",
   "name": "python3"
  },
  "language_info": {
   "codemirror_mode": {
    "name": "ipython",
    "version": 3
   },
   "file_extension": ".py",
   "mimetype": "text/x-python",
   "name": "python",
   "nbconvert_exporter": "python",
   "pygments_lexer": "ipython3",
   "version": "3.9.7"
  }
 },
 "nbformat": 4,
 "nbformat_minor": 5
}
